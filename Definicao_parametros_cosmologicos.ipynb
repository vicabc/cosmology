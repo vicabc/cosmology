{
  "nbformat": 4,
  "nbformat_minor": 0,
  "metadata": {
    "colab": {
      "name": "Definicao-parametros-cosmologicos.ipynb",
      "provenance": [],
      "collapsed_sections": [],
      "include_colab_link": true
    },
    "kernelspec": {
      "name": "python3",
      "display_name": "Python 3"
    },
    "language_info": {
      "name": "python"
    }
  },
  "cells": [
    {
      "cell_type": "markdown",
      "metadata": {
        "id": "view-in-github",
        "colab_type": "text"
      },
      "source": [
        "<a href=\"https://colab.research.google.com/github/vicabc/cosmology/blob/main/Definicao_parametros_cosmologicos.ipynb\" target=\"_parent\"><img src=\"https://colab.research.google.com/assets/colab-badge.svg\" alt=\"Open In Colab\"/></a>"
      ]
    },
    {
      "cell_type": "markdown",
      "source": [
        "#DADOS"
      ],
      "metadata": {
        "id": "XlvYyRiEAO1h"
      }
    },
    {
      "cell_type": "code",
      "source": [
        "#Bibliotecas\n",
        "\n",
        "from google.colab import files\n",
        "import io\n",
        "import pandas as pd\n",
        "import seaborn as sns\n",
        "import csv\n",
        "from scipy.integrate import quad\n",
        "import numpy as np\n",
        "import matplotlib.pyplot as plt\n",
        "from matplotlib.patches import Ellipse\n",
        "from scipy import integrate"
      ],
      "metadata": {
        "id": "_XsrgdTDhTJQ"
      },
      "execution_count": 1,
      "outputs": []
    },
    {
      "cell_type": "code",
      "source": [
        "df = pd.read_csv('DL.csv', header=None)                    #Leitura do arquivo\n",
        "df.columns = ['Redshift', 'DL [Mpc]', 'Sigma_DL [Mpc]']    #Nomeia as colunas"
      ],
      "metadata": {
        "id": "gSDOFQpLNdl1"
      },
      "execution_count": 2,
      "outputs": []
    },
    {
      "cell_type": "code",
      "source": [
        "df"
      ],
      "metadata": {
        "colab": {
          "base_uri": "https://localhost:8080/",
          "height": 423
        },
        "id": "TP7bqDk_SglS",
        "outputId": "a93e8f53-b000-4aa4-917b-5eda64cf2ab3"
      },
      "execution_count": 3,
      "outputs": [
        {
          "output_type": "execute_result",
          "data": {
            "text/plain": [
              "     Redshift    DL [Mpc]  Sigma_DL [Mpc]\n",
              "0      1.4986  10851.1173        532.0162\n",
              "1      1.6738  11736.7910        606.7476\n",
              "2      1.0550   7167.7541        350.3223\n",
              "3      1.1030   8226.9688        369.3736\n",
              "4      1.5406  10396.2127        549.7847\n",
              "..        ...         ...             ...\n",
              "175    1.8108  12254.0022        666.2087\n",
              "176    1.5116  11219.9822        537.5037\n",
              "177    0.6935   4566.3797        213.1093\n",
              "178    0.1845    897.7660         47.3017\n",
              "179    1.4084   9689.4388        494.1315\n",
              "\n",
              "[180 rows x 3 columns]"
            ],
            "text/html": [
              "\n",
              "  <div id=\"df-075f6423-5ace-4053-a95f-c81545807e85\">\n",
              "    <div class=\"colab-df-container\">\n",
              "      <div>\n",
              "<style scoped>\n",
              "    .dataframe tbody tr th:only-of-type {\n",
              "        vertical-align: middle;\n",
              "    }\n",
              "\n",
              "    .dataframe tbody tr th {\n",
              "        vertical-align: top;\n",
              "    }\n",
              "\n",
              "    .dataframe thead th {\n",
              "        text-align: right;\n",
              "    }\n",
              "</style>\n",
              "<table border=\"1\" class=\"dataframe\">\n",
              "  <thead>\n",
              "    <tr style=\"text-align: right;\">\n",
              "      <th></th>\n",
              "      <th>Redshift</th>\n",
              "      <th>DL [Mpc]</th>\n",
              "      <th>Sigma_DL [Mpc]</th>\n",
              "    </tr>\n",
              "  </thead>\n",
              "  <tbody>\n",
              "    <tr>\n",
              "      <th>0</th>\n",
              "      <td>1.4986</td>\n",
              "      <td>10851.1173</td>\n",
              "      <td>532.0162</td>\n",
              "    </tr>\n",
              "    <tr>\n",
              "      <th>1</th>\n",
              "      <td>1.6738</td>\n",
              "      <td>11736.7910</td>\n",
              "      <td>606.7476</td>\n",
              "    </tr>\n",
              "    <tr>\n",
              "      <th>2</th>\n",
              "      <td>1.0550</td>\n",
              "      <td>7167.7541</td>\n",
              "      <td>350.3223</td>\n",
              "    </tr>\n",
              "    <tr>\n",
              "      <th>3</th>\n",
              "      <td>1.1030</td>\n",
              "      <td>8226.9688</td>\n",
              "      <td>369.3736</td>\n",
              "    </tr>\n",
              "    <tr>\n",
              "      <th>4</th>\n",
              "      <td>1.5406</td>\n",
              "      <td>10396.2127</td>\n",
              "      <td>549.7847</td>\n",
              "    </tr>\n",
              "    <tr>\n",
              "      <th>...</th>\n",
              "      <td>...</td>\n",
              "      <td>...</td>\n",
              "      <td>...</td>\n",
              "    </tr>\n",
              "    <tr>\n",
              "      <th>175</th>\n",
              "      <td>1.8108</td>\n",
              "      <td>12254.0022</td>\n",
              "      <td>666.2087</td>\n",
              "    </tr>\n",
              "    <tr>\n",
              "      <th>176</th>\n",
              "      <td>1.5116</td>\n",
              "      <td>11219.9822</td>\n",
              "      <td>537.5037</td>\n",
              "    </tr>\n",
              "    <tr>\n",
              "      <th>177</th>\n",
              "      <td>0.6935</td>\n",
              "      <td>4566.3797</td>\n",
              "      <td>213.1093</td>\n",
              "    </tr>\n",
              "    <tr>\n",
              "      <th>178</th>\n",
              "      <td>0.1845</td>\n",
              "      <td>897.7660</td>\n",
              "      <td>47.3017</td>\n",
              "    </tr>\n",
              "    <tr>\n",
              "      <th>179</th>\n",
              "      <td>1.4084</td>\n",
              "      <td>9689.4388</td>\n",
              "      <td>494.1315</td>\n",
              "    </tr>\n",
              "  </tbody>\n",
              "</table>\n",
              "<p>180 rows × 3 columns</p>\n",
              "</div>\n",
              "      <button class=\"colab-df-convert\" onclick=\"convertToInteractive('df-075f6423-5ace-4053-a95f-c81545807e85')\"\n",
              "              title=\"Convert this dataframe to an interactive table.\"\n",
              "              style=\"display:none;\">\n",
              "        \n",
              "  <svg xmlns=\"http://www.w3.org/2000/svg\" height=\"24px\"viewBox=\"0 0 24 24\"\n",
              "       width=\"24px\">\n",
              "    <path d=\"M0 0h24v24H0V0z\" fill=\"none\"/>\n",
              "    <path d=\"M18.56 5.44l.94 2.06.94-2.06 2.06-.94-2.06-.94-.94-2.06-.94 2.06-2.06.94zm-11 1L8.5 8.5l.94-2.06 2.06-.94-2.06-.94L8.5 2.5l-.94 2.06-2.06.94zm10 10l.94 2.06.94-2.06 2.06-.94-2.06-.94-.94-2.06-.94 2.06-2.06.94z\"/><path d=\"M17.41 7.96l-1.37-1.37c-.4-.4-.92-.59-1.43-.59-.52 0-1.04.2-1.43.59L10.3 9.45l-7.72 7.72c-.78.78-.78 2.05 0 2.83L4 21.41c.39.39.9.59 1.41.59.51 0 1.02-.2 1.41-.59l7.78-7.78 2.81-2.81c.8-.78.8-2.07 0-2.86zM5.41 20L4 18.59l7.72-7.72 1.47 1.35L5.41 20z\"/>\n",
              "  </svg>\n",
              "      </button>\n",
              "      \n",
              "  <style>\n",
              "    .colab-df-container {\n",
              "      display:flex;\n",
              "      flex-wrap:wrap;\n",
              "      gap: 12px;\n",
              "    }\n",
              "\n",
              "    .colab-df-convert {\n",
              "      background-color: #E8F0FE;\n",
              "      border: none;\n",
              "      border-radius: 50%;\n",
              "      cursor: pointer;\n",
              "      display: none;\n",
              "      fill: #1967D2;\n",
              "      height: 32px;\n",
              "      padding: 0 0 0 0;\n",
              "      width: 32px;\n",
              "    }\n",
              "\n",
              "    .colab-df-convert:hover {\n",
              "      background-color: #E2EBFA;\n",
              "      box-shadow: 0px 1px 2px rgba(60, 64, 67, 0.3), 0px 1px 3px 1px rgba(60, 64, 67, 0.15);\n",
              "      fill: #174EA6;\n",
              "    }\n",
              "\n",
              "    [theme=dark] .colab-df-convert {\n",
              "      background-color: #3B4455;\n",
              "      fill: #D2E3FC;\n",
              "    }\n",
              "\n",
              "    [theme=dark] .colab-df-convert:hover {\n",
              "      background-color: #434B5C;\n",
              "      box-shadow: 0px 1px 3px 1px rgba(0, 0, 0, 0.15);\n",
              "      filter: drop-shadow(0px 1px 2px rgba(0, 0, 0, 0.3));\n",
              "      fill: #FFFFFF;\n",
              "    }\n",
              "  </style>\n",
              "\n",
              "      <script>\n",
              "        const buttonEl =\n",
              "          document.querySelector('#df-075f6423-5ace-4053-a95f-c81545807e85 button.colab-df-convert');\n",
              "        buttonEl.style.display =\n",
              "          google.colab.kernel.accessAllowed ? 'block' : 'none';\n",
              "\n",
              "        async function convertToInteractive(key) {\n",
              "          const element = document.querySelector('#df-075f6423-5ace-4053-a95f-c81545807e85');\n",
              "          const dataTable =\n",
              "            await google.colab.kernel.invokeFunction('convertToInteractive',\n",
              "                                                     [key], {});\n",
              "          if (!dataTable) return;\n",
              "\n",
              "          const docLinkHtml = 'Like what you see? Visit the ' +\n",
              "            '<a target=\"_blank\" href=https://colab.research.google.com/notebooks/data_table.ipynb>data table notebook</a>'\n",
              "            + ' to learn more about interactive tables.';\n",
              "          element.innerHTML = '';\n",
              "          dataTable['output_type'] = 'display_data';\n",
              "          await google.colab.output.renderOutput(dataTable, element);\n",
              "          const docLink = document.createElement('div');\n",
              "          docLink.innerHTML = docLinkHtml;\n",
              "          element.appendChild(docLink);\n",
              "        }\n",
              "      </script>\n",
              "    </div>\n",
              "  </div>\n",
              "  "
            ]
          },
          "metadata": {},
          "execution_count": 3
        }
      ]
    },
    {
      "cell_type": "code",
      "source": [
        "#Salvamos as colunas em variáveis sugestivas\n",
        "\n",
        "red = df['Redshift']\n",
        "d = df['DL [Mpc]']\n",
        "sigma_dl = df['Sigma_DL [Mpc]']"
      ],
      "metadata": {
        "id": "KgV8zDCt2Cuo"
      },
      "execution_count": 4,
      "outputs": []
    },
    {
      "cell_type": "markdown",
      "source": [
        "#Exercício 1"
      ],
      "metadata": {
        "id": "BL3gmt0sATQO"
      }
    },
    {
      "cell_type": "markdown",
      "source": [
        "Com o conjunto de dados fornecido, explorar o valor da função $Χ^2$  para obter os valores dos parâmetros $H_0$ e $\\Omega_m$ que melhor descrevem os dados. Para esta análise, assuma um modelo LCDM plano e desconsidere a componente de radiação. Preste atenção às quantidades que se encontram nos dados."
      ],
      "metadata": {
        "id": "rzTt7CTqAYA8"
      }
    },
    {
      "cell_type": "markdown",
      "source": [
        "Temos que $\\chi^2 = \\sum_i^n (\\frac{DL_{obs} - DL_{teo}}{\\sigma_{DL}})^2$ "
      ],
      "metadata": {
        "id": "ynW_UoC9xwXt"
      }
    },
    {
      "cell_type": "markdown",
      "source": [
        "Onde $D_L = (1+z_{i})\\int_0^{z_i}\\frac{dz}{H(z)}$ "
      ],
      "metadata": {
        "id": "dAWeBYMBx-aO"
      }
    },
    {
      "cell_type": "markdown",
      "source": [
        "E $H(z) = H_0 \\sqrt{\\Omega_{m,0} (1+z)^3 + \\Omega_\\Lambda}$ e $\\Omega_\\Lambda = 1 - \\Omega_{m,0}$"
      ],
      "metadata": {
        "id": "4nKwLIxdyBqR"
      }
    },
    {
      "cell_type": "markdown",
      "source": [
        "Portanto, $H(z) = H_0 \\sqrt{\\Omega_{m,0}(1+z)^3 + 1 - \\Omega_{m,0}}$"
      ],
      "metadata": {
        "id": "qEHRWhyeyGSN"
      }
    },
    {
      "cell_type": "markdown",
      "source": [
        "Abaixo, criamos um código que, a partir de cada valor de redshift, calcula um valor de $DL_{teo}$ para cada valor de $H_0$ (que varia entre 50 e 100 de 1 em 1 passo) e $\\Omega_{m,0}$ (que varia entre 0 e 0.7 de 0.005 passos) "
      ],
      "metadata": {
        "id": "nETY7UxAyLV5"
      }
    },
    {
      "cell_type": "code",
      "source": [
        "rows = []\n",
        "for o in range(0,705,5):                                              #loop de ohmega_m -> de 0 a 0.7 variando de 0.005\n",
        "  for hz in range(50, 101, 1):                                        #loop de H_0 -> variando de 50 a 100 em passos de 1 \n",
        "    chi=0.0\n",
        "    chiquadrado=0.0\n",
        "    for z, dl, sigma in zip(red, d, sigma_dl):\n",
        "      omegam = 0.001*o\n",
        "      funcao=lambda x: 300000*((omegam*((1+x)**3)+1-omegam)**(-1/2)) #definição da função para integrar\n",
        "      integral, err = integrate.quad(funcao, 0, z)                   #cálculo da integral (O , err separa o erro da integral)\n",
        "      dlt = ((1+z)*integral)/hz\n",
        "      chi= (((dl-dlt)/(sigma))**2)                                   #cálculo de todos os chis de cada cada DL teórico\n",
        "      chiquadrado=chiquadrado+chi\n",
        "    rows.append([chiquadrado, omegam, hz])                           #salvando em um dataframe\n",
        "    dframe = pd.DataFrame(rows, columns=[\"Chi quadrado\", \"Omega_m\", \"H_0\"])\n"
      ],
      "metadata": {
        "id": "Id2-PVZE1BiI"
      },
      "execution_count": 5,
      "outputs": []
    },
    {
      "cell_type": "code",
      "source": [
        "dframe"
      ],
      "metadata": {
        "id": "-xQS0WJZ1Dfw",
        "colab": {
          "base_uri": "https://localhost:8080/",
          "height": 423
        },
        "outputId": "33c9b3ce-8697-47c1-93cd-f1c42237a38b"
      },
      "execution_count": 6,
      "outputs": [
        {
          "output_type": "execute_result",
          "data": {
            "text/plain": [
              "      Chi quadrado  Omega_m  H_0\n",
              "0     56765.168366      0.0   50\n",
              "1     52338.343752      0.0   51\n",
              "2     48259.265054      0.0   52\n",
              "3     44498.391861      0.0   53\n",
              "4     41029.088544      0.0   54\n",
              "...            ...      ...  ...\n",
              "7186  10302.097626      0.7   96\n",
              "7187  10644.450003      0.7   97\n",
              "7188  10985.530807      0.7   98\n",
              "7189  11325.207129      0.7   99\n",
              "7190  11663.358171      0.7  100\n",
              "\n",
              "[7191 rows x 3 columns]"
            ],
            "text/html": [
              "\n",
              "  <div id=\"df-f6a55c1c-a4cd-4f54-bf68-54623fd2fc7f\">\n",
              "    <div class=\"colab-df-container\">\n",
              "      <div>\n",
              "<style scoped>\n",
              "    .dataframe tbody tr th:only-of-type {\n",
              "        vertical-align: middle;\n",
              "    }\n",
              "\n",
              "    .dataframe tbody tr th {\n",
              "        vertical-align: top;\n",
              "    }\n",
              "\n",
              "    .dataframe thead th {\n",
              "        text-align: right;\n",
              "    }\n",
              "</style>\n",
              "<table border=\"1\" class=\"dataframe\">\n",
              "  <thead>\n",
              "    <tr style=\"text-align: right;\">\n",
              "      <th></th>\n",
              "      <th>Chi quadrado</th>\n",
              "      <th>Omega_m</th>\n",
              "      <th>H_0</th>\n",
              "    </tr>\n",
              "  </thead>\n",
              "  <tbody>\n",
              "    <tr>\n",
              "      <th>0</th>\n",
              "      <td>56765.168366</td>\n",
              "      <td>0.0</td>\n",
              "      <td>50</td>\n",
              "    </tr>\n",
              "    <tr>\n",
              "      <th>1</th>\n",
              "      <td>52338.343752</td>\n",
              "      <td>0.0</td>\n",
              "      <td>51</td>\n",
              "    </tr>\n",
              "    <tr>\n",
              "      <th>2</th>\n",
              "      <td>48259.265054</td>\n",
              "      <td>0.0</td>\n",
              "      <td>52</td>\n",
              "    </tr>\n",
              "    <tr>\n",
              "      <th>3</th>\n",
              "      <td>44498.391861</td>\n",
              "      <td>0.0</td>\n",
              "      <td>53</td>\n",
              "    </tr>\n",
              "    <tr>\n",
              "      <th>4</th>\n",
              "      <td>41029.088544</td>\n",
              "      <td>0.0</td>\n",
              "      <td>54</td>\n",
              "    </tr>\n",
              "    <tr>\n",
              "      <th>...</th>\n",
              "      <td>...</td>\n",
              "      <td>...</td>\n",
              "      <td>...</td>\n",
              "    </tr>\n",
              "    <tr>\n",
              "      <th>7186</th>\n",
              "      <td>10302.097626</td>\n",
              "      <td>0.7</td>\n",
              "      <td>96</td>\n",
              "    </tr>\n",
              "    <tr>\n",
              "      <th>7187</th>\n",
              "      <td>10644.450003</td>\n",
              "      <td>0.7</td>\n",
              "      <td>97</td>\n",
              "    </tr>\n",
              "    <tr>\n",
              "      <th>7188</th>\n",
              "      <td>10985.530807</td>\n",
              "      <td>0.7</td>\n",
              "      <td>98</td>\n",
              "    </tr>\n",
              "    <tr>\n",
              "      <th>7189</th>\n",
              "      <td>11325.207129</td>\n",
              "      <td>0.7</td>\n",
              "      <td>99</td>\n",
              "    </tr>\n",
              "    <tr>\n",
              "      <th>7190</th>\n",
              "      <td>11663.358171</td>\n",
              "      <td>0.7</td>\n",
              "      <td>100</td>\n",
              "    </tr>\n",
              "  </tbody>\n",
              "</table>\n",
              "<p>7191 rows × 3 columns</p>\n",
              "</div>\n",
              "      <button class=\"colab-df-convert\" onclick=\"convertToInteractive('df-f6a55c1c-a4cd-4f54-bf68-54623fd2fc7f')\"\n",
              "              title=\"Convert this dataframe to an interactive table.\"\n",
              "              style=\"display:none;\">\n",
              "        \n",
              "  <svg xmlns=\"http://www.w3.org/2000/svg\" height=\"24px\"viewBox=\"0 0 24 24\"\n",
              "       width=\"24px\">\n",
              "    <path d=\"M0 0h24v24H0V0z\" fill=\"none\"/>\n",
              "    <path d=\"M18.56 5.44l.94 2.06.94-2.06 2.06-.94-2.06-.94-.94-2.06-.94 2.06-2.06.94zm-11 1L8.5 8.5l.94-2.06 2.06-.94-2.06-.94L8.5 2.5l-.94 2.06-2.06.94zm10 10l.94 2.06.94-2.06 2.06-.94-2.06-.94-.94-2.06-.94 2.06-2.06.94z\"/><path d=\"M17.41 7.96l-1.37-1.37c-.4-.4-.92-.59-1.43-.59-.52 0-1.04.2-1.43.59L10.3 9.45l-7.72 7.72c-.78.78-.78 2.05 0 2.83L4 21.41c.39.39.9.59 1.41.59.51 0 1.02-.2 1.41-.59l7.78-7.78 2.81-2.81c.8-.78.8-2.07 0-2.86zM5.41 20L4 18.59l7.72-7.72 1.47 1.35L5.41 20z\"/>\n",
              "  </svg>\n",
              "      </button>\n",
              "      \n",
              "  <style>\n",
              "    .colab-df-container {\n",
              "      display:flex;\n",
              "      flex-wrap:wrap;\n",
              "      gap: 12px;\n",
              "    }\n",
              "\n",
              "    .colab-df-convert {\n",
              "      background-color: #E8F0FE;\n",
              "      border: none;\n",
              "      border-radius: 50%;\n",
              "      cursor: pointer;\n",
              "      display: none;\n",
              "      fill: #1967D2;\n",
              "      height: 32px;\n",
              "      padding: 0 0 0 0;\n",
              "      width: 32px;\n",
              "    }\n",
              "\n",
              "    .colab-df-convert:hover {\n",
              "      background-color: #E2EBFA;\n",
              "      box-shadow: 0px 1px 2px rgba(60, 64, 67, 0.3), 0px 1px 3px 1px rgba(60, 64, 67, 0.15);\n",
              "      fill: #174EA6;\n",
              "    }\n",
              "\n",
              "    [theme=dark] .colab-df-convert {\n",
              "      background-color: #3B4455;\n",
              "      fill: #D2E3FC;\n",
              "    }\n",
              "\n",
              "    [theme=dark] .colab-df-convert:hover {\n",
              "      background-color: #434B5C;\n",
              "      box-shadow: 0px 1px 3px 1px rgba(0, 0, 0, 0.15);\n",
              "      filter: drop-shadow(0px 1px 2px rgba(0, 0, 0, 0.3));\n",
              "      fill: #FFFFFF;\n",
              "    }\n",
              "  </style>\n",
              "\n",
              "      <script>\n",
              "        const buttonEl =\n",
              "          document.querySelector('#df-f6a55c1c-a4cd-4f54-bf68-54623fd2fc7f button.colab-df-convert');\n",
              "        buttonEl.style.display =\n",
              "          google.colab.kernel.accessAllowed ? 'block' : 'none';\n",
              "\n",
              "        async function convertToInteractive(key) {\n",
              "          const element = document.querySelector('#df-f6a55c1c-a4cd-4f54-bf68-54623fd2fc7f');\n",
              "          const dataTable =\n",
              "            await google.colab.kernel.invokeFunction('convertToInteractive',\n",
              "                                                     [key], {});\n",
              "          if (!dataTable) return;\n",
              "\n",
              "          const docLinkHtml = 'Like what you see? Visit the ' +\n",
              "            '<a target=\"_blank\" href=https://colab.research.google.com/notebooks/data_table.ipynb>data table notebook</a>'\n",
              "            + ' to learn more about interactive tables.';\n",
              "          element.innerHTML = '';\n",
              "          dataTable['output_type'] = 'display_data';\n",
              "          await google.colab.output.renderOutput(dataTable, element);\n",
              "          const docLink = document.createElement('div');\n",
              "          docLink.innerHTML = docLinkHtml;\n",
              "          element.appendChild(docLink);\n",
              "        }\n",
              "      </script>\n",
              "    </div>\n",
              "  </div>\n",
              "  "
            ]
          },
          "metadata": {},
          "execution_count": 6
        }
      ]
    },
    {
      "cell_type": "code",
      "source": [
        "#Chi quadrado mínimo:\n",
        "min = dframe['Chi quadrado'].idxmin()\n",
        "dframe.iloc[min]"
      ],
      "metadata": {
        "id": "7b75kd3e2QW5",
        "colab": {
          "base_uri": "https://localhost:8080/"
        },
        "outputId": "c987be37-ec96-4c4e-a53c-2ebd3faad1fd"
      },
      "execution_count": 7,
      "outputs": [
        {
          "output_type": "execute_result",
          "data": {
            "text/plain": [
              "Chi quadrado    378.024754\n",
              "Omega_m           0.405000\n",
              "H_0              67.000000\n",
              "Name: 4148, dtype: float64"
            ]
          },
          "metadata": {},
          "execution_count": 7
        }
      ]
    },
    {
      "cell_type": "markdown",
      "source": [
        "Concluimos que o modelo que melhor descreve as observações possui parâmetros $H_0=67 km/s/Mpc$ e $\\Omega_{m,0}=0.405$"
      ],
      "metadata": {
        "id": "G2sQ28ZigQ6c"
      }
    },
    {
      "cell_type": "markdown",
      "source": [
        "#Exercício 2"
      ],
      "metadata": {
        "id": "DslIHnGaAhqe"
      }
    },
    {
      "cell_type": "markdown",
      "source": [
        "Faça um gráfico de dispersão dos dados (incluindo o erro) e adicione uma linha que represente o modelo de melhor ajuste."
      ],
      "metadata": {
        "id": "DIZvhS7GAkwT"
      }
    },
    {
      "cell_type": "markdown",
      "source": [
        "Primeiro vamos calcular a função $D_L(z)$ cujos parâmetros são $H_0=67 km/s/Mpc$ e $\\Omega_{m,0}=0.405$, ou seja $D_L = (1+z_{i})\\int_0^{z_i}\\frac{dz}{67\\sqrt{0.405*(1+z)^3 + 0.595}}$ "
      ],
      "metadata": {
        "id": "Wuu5Mi_asJo8"
      }
    },
    {
      "cell_type": "code",
      "source": [
        "rows=[]\n",
        "for z, dl in zip(red, d):\n",
        "  funcao1=lambda y: 300000/(0.405*((1+y)**3)+(1-0.405))**(1/2)\n",
        "  integral1, err = integrate.quad(funcao1, 0, z)\n",
        "  dl1 = ((1+z)*integral1)/67\n",
        "  rows.append([dl1,z]) \n",
        "  dframe1 = pd.DataFrame(rows, columns=[\"dl\", \"z\"])"
      ],
      "metadata": {
        "id": "4CFXtn5ssFs2"
      },
      "execution_count": 8,
      "outputs": []
    },
    {
      "cell_type": "code",
      "source": [
        "data = df.plot(x='Redshift', y=\"DL [Mpc]\", yerr='Sigma_DL [Mpc]',kind=\"scatter\", color='hotpink', figsize=(10, 8), title='Dispersão de dados')  #plot dos dados\n",
        "model = sns.lineplot(data=dframe1,x='z',y='dl' ,color='black', legend=True)                                                                     #plot do ajuste\n",
        "plt.legend(labels=['Ajuste para $\\Omega{m,0}$ e $H_0$', 'Dados fornecidos'])"
      ],
      "metadata": {
        "colab": {
          "base_uri": "https://localhost:8080/",
          "height": 531
        },
        "id": "G87Wt9cRU7Pg",
        "outputId": "234685bf-fd82-40a4-b97b-6383d5cf4077"
      },
      "execution_count": 9,
      "outputs": [
        {
          "output_type": "execute_result",
          "data": {
            "text/plain": [
              "<matplotlib.legend.Legend at 0x7f39c7238490>"
            ]
          },
          "metadata": {},
          "execution_count": 9
        },
        {
          "output_type": "display_data",
          "data": {
            "text/plain": [
              "<Figure size 720x576 with 1 Axes>"
            ],
            "image/png": "[encoded data removed]"
          },
          "metadata": {
            "needs_background": "light"
          }
        }
      ]
    },
    {
      "cell_type": "markdown",
      "source": [
        "Os pontos em rosa correspondem os dados observacionáis de distância de luminosidade x redshift. A linha preta representa o ajuste que contém os parâmetros $H_0=67 km/s/Mpc$ e $\\Omega_{m,0}=0.405$. Podemos ver que, de fato, o modelo cosmológico encontrado corresponde aos dados fornecidos."
      ],
      "metadata": {
        "id": "pUJYjVgi3rK1"
      }
    },
    {
      "cell_type": "markdown",
      "source": [
        "#Exercício 3"
      ],
      "metadata": {
        "id": "28uN-hcUAqqn"
      }
    },
    {
      "cell_type": "markdown",
      "source": [
        "Faça um gráfico do plano $H_0$-$\\Omega_m$ com os valores de $\\chi^2$ que representam o 68% de confiança e com outra cor os pontos que representam o 95% de confiança (probabilidade). Para isto utilize os valores de $\\chi^2$ limites dados em aula."
      ],
      "metadata": {
        "id": "LyGurifNAspA"
      }
    },
    {
      "cell_type": "code",
      "source": [
        "dh0=dframe['H_0']\n",
        "domm=dframe['Omega_m']\n",
        "dchisq=dframe['Chi quadrado']\n",
        "\n",
        "sigma1=[]\n",
        "sigma2=[]\n",
        "\n",
        "e68=2.3 #Margem de erro de 68%\n",
        "e95=6.17 #Margem de erro de 95%\n",
        "\n",
        "\n",
        "min = dframe['Chi quadrado'].min()\n",
        "range68 = min + e68\n",
        "range95 = min + e95\n",
        "print('Intervalo de chi para erro de 68%:', min,'até',range68)\n",
        "print('Intervalo de chi para erro de 95%:', min,'até', range95)"
      ],
      "metadata": {
        "colab": {
          "base_uri": "https://localhost:8080/"
        },
        "id": "WnaWJMW7cKH0",
        "outputId": "ccbee6b8-fc04-4521-be43-135025c46252"
      },
      "execution_count": 10,
      "outputs": [
        {
          "output_type": "stream",
          "name": "stdout",
          "text": [
            "Intervalo de chi para erro de 68%: 378.02475371090867 até 380.3247537109087\n",
            "Intervalo de chi para erro de 95%: 378.02475371090867 até 384.1947537109087\n"
          ]
        }
      ]
    },
    {
      "cell_type": "code",
      "source": [
        "compchiq = len(dchisq)\n",
        "listachiq1=[]\n",
        "rows1=[]\n",
        "\n",
        "#aqui buscamos rodar dentro de todos os índices de qui quadrados\n",
        "\n",
        "for i in range(compchiq):\n",
        "  chiq1=dchisq[i]\n",
        "  rows1.append(chiq1) #salvando em um dataframe\n",
        "  dframe3 = pd.DataFrame(rows1)\n",
        "w=dframe3[0]\n",
        "sigma1=[]\n",
        "sigma2=[]\n",
        "\n",
        "#de maneira que estudaremos se esses mesmos obedecem as condições de probabilidade\n",
        "\n",
        "for j in w:\n",
        "  if j <= range68:\n",
        "    sigma1.append(j)\n",
        "for k in w:\n",
        "  if k <= range95:\n",
        "    sigma2.append(k)\n",
        "\n",
        " #foi separado, para cada um dos valores que obedece ou sigma1 ou sigma2, dataframes contendo os dados   \n",
        "\n",
        "dfsigma1= pd.DataFrame (sigma1)\n",
        "dfsigma2 = pd.DataFrame(sigma2)\n",
        "dffs = pd.concat([dfsigma1, dfsigma2], axis=1, ignore_index=True)\n",
        "dffs.rename(columns={0: 'Sigma 1', 1: 'Sigma 2'}, inplace = True)\n",
        "\n",
        "#visualizamos os pontos gerados\n",
        "dffs"
      ],
      "metadata": {
        "colab": {
          "base_uri": "https://localhost:8080/",
          "height": 676
        },
        "id": "3xoXPqEAdTJj",
        "outputId": "57721888-27dc-4835-a1cc-96502b5087f4"
      },
      "execution_count": 11,
      "outputs": [
        {
          "output_type": "execute_result",
          "data": {
            "text/plain": [
              "       Sigma 1     Sigma 2\n",
              "0   379.333095  383.069283\n",
              "1   378.250882  381.308358\n",
              "2   378.024754  380.508956\n",
              "3   378.627419  380.638600\n",
              "4   380.032609  384.180345\n",
              "5          NaN  381.666106\n",
              "6          NaN  381.299754\n",
              "7          NaN  383.561517\n",
              "8          NaN  379.333095\n",
              "9          NaN  378.250882\n",
              "10         NaN  378.024754\n",
              "11         NaN  378.627419\n",
              "12         NaN  380.032609\n",
              "13         NaN  383.400002\n",
              "14         NaN  382.215030\n",
              "15         NaN  381.781733\n",
              "16         NaN  380.959725\n",
              "17         NaN  380.909838\n",
              "18         NaN  381.608790\n",
              "19         NaN  383.034125"
            ],
            "text/html": [
              "\n",
              "  <div id=\"df-fb15b28c-1c44-4a08-b28a-e18fb4c74705\">\n",
              "    <div class=\"colab-df-container\">\n",
              "      <div>\n",
              "<style scoped>\n",
              "    .dataframe tbody tr th:only-of-type {\n",
              "        vertical-align: middle;\n",
              "    }\n",
              "\n",
              "    .dataframe tbody tr th {\n",
              "        vertical-align: top;\n",
              "    }\n",
              "\n",
              "    .dataframe thead th {\n",
              "        text-align: right;\n",
              "    }\n",
              "</style>\n",
              "<table border=\"1\" class=\"dataframe\">\n",
              "  <thead>\n",
              "    <tr style=\"text-align: right;\">\n",
              "      <th></th>\n",
              "      <th>Sigma 1</th>\n",
              "      <th>Sigma 2</th>\n",
              "    </tr>\n",
              "  </thead>\n",
              "  <tbody>\n",
              "    <tr>\n",
              "      <th>0</th>\n",
              "      <td>379.333095</td>\n",
              "      <td>383.069283</td>\n",
              "    </tr>\n",
              "    <tr>\n",
              "      <th>1</th>\n",
              "      <td>378.250882</td>\n",
              "      <td>381.308358</td>\n",
              "    </tr>\n",
              "    <tr>\n",
              "      <th>2</th>\n",
              "      <td>378.024754</td>\n",
              "      <td>380.508956</td>\n",
              "    </tr>\n",
              "    <tr>\n",
              "      <th>3</th>\n",
              "      <td>378.627419</td>\n",
              "      <td>380.638600</td>\n",
              "    </tr>\n",
              "    <tr>\n",
              "      <th>4</th>\n",
              "      <td>380.032609</td>\n",
              "      <td>384.180345</td>\n",
              "    </tr>\n",
              "    <tr>\n",
              "      <th>5</th>\n",
              "      <td>NaN</td>\n",
              "      <td>381.666106</td>\n",
              "    </tr>\n",
              "    <tr>\n",
              "      <th>6</th>\n",
              "      <td>NaN</td>\n",
              "      <td>381.299754</td>\n",
              "    </tr>\n",
              "    <tr>\n",
              "      <th>7</th>\n",
              "      <td>NaN</td>\n",
              "      <td>383.561517</td>\n",
              "    </tr>\n",
              "    <tr>\n",
              "      <th>8</th>\n",
              "      <td>NaN</td>\n",
              "      <td>379.333095</td>\n",
              "    </tr>\n",
              "    <tr>\n",
              "      <th>9</th>\n",
              "      <td>NaN</td>\n",
              "      <td>378.250882</td>\n",
              "    </tr>\n",
              "    <tr>\n",
              "      <th>10</th>\n",
              "      <td>NaN</td>\n",
              "      <td>378.024754</td>\n",
              "    </tr>\n",
              "    <tr>\n",
              "      <th>11</th>\n",
              "      <td>NaN</td>\n",
              "      <td>378.627419</td>\n",
              "    </tr>\n",
              "    <tr>\n",
              "      <th>12</th>\n",
              "      <td>NaN</td>\n",
              "      <td>380.032609</td>\n",
              "    </tr>\n",
              "    <tr>\n",
              "      <th>13</th>\n",
              "      <td>NaN</td>\n",
              "      <td>383.400002</td>\n",
              "    </tr>\n",
              "    <tr>\n",
              "      <th>14</th>\n",
              "      <td>NaN</td>\n",
              "      <td>382.215030</td>\n",
              "    </tr>\n",
              "    <tr>\n",
              "      <th>15</th>\n",
              "      <td>NaN</td>\n",
              "      <td>381.781733</td>\n",
              "    </tr>\n",
              "    <tr>\n",
              "      <th>16</th>\n",
              "      <td>NaN</td>\n",
              "      <td>380.959725</td>\n",
              "    </tr>\n",
              "    <tr>\n",
              "      <th>17</th>\n",
              "      <td>NaN</td>\n",
              "      <td>380.909838</td>\n",
              "    </tr>\n",
              "    <tr>\n",
              "      <th>18</th>\n",
              "      <td>NaN</td>\n",
              "      <td>381.608790</td>\n",
              "    </tr>\n",
              "    <tr>\n",
              "      <th>19</th>\n",
              "      <td>NaN</td>\n",
              "      <td>383.034125</td>\n",
              "    </tr>\n",
              "  </tbody>\n",
              "</table>\n",
              "</div>\n",
              "      <button class=\"colab-df-convert\" onclick=\"convertToInteractive('df-fb15b28c-1c44-4a08-b28a-e18fb4c74705')\"\n",
              "              title=\"Convert this dataframe to an interactive table.\"\n",
              "              style=\"display:none;\">\n",
              "        \n",
              "  <svg xmlns=\"http://www.w3.org/2000/svg\" height=\"24px\"viewBox=\"0 0 24 24\"\n",
              "       width=\"24px\">\n",
              "    <path d=\"M0 0h24v24H0V0z\" fill=\"none\"/>\n",
              "    <path d=\"M18.56 5.44l.94 2.06.94-2.06 2.06-.94-2.06-.94-.94-2.06-.94 2.06-2.06.94zm-11 1L8.5 8.5l.94-2.06 2.06-.94-2.06-.94L8.5 2.5l-.94 2.06-2.06.94zm10 10l.94 2.06.94-2.06 2.06-.94-2.06-.94-.94-2.06-.94 2.06-2.06.94z\"/><path d=\"M17.41 7.96l-1.37-1.37c-.4-.4-.92-.59-1.43-.59-.52 0-1.04.2-1.43.59L10.3 9.45l-7.72 7.72c-.78.78-.78 2.05 0 2.83L4 21.41c.39.39.9.59 1.41.59.51 0 1.02-.2 1.41-.59l7.78-7.78 2.81-2.81c.8-.78.8-2.07 0-2.86zM5.41 20L4 18.59l7.72-7.72 1.47 1.35L5.41 20z\"/>\n",
              "  </svg>\n",
              "      </button>\n",
              "      \n",
              "  <style>\n",
              "    .colab-df-container {\n",
              "      display:flex;\n",
              "      flex-wrap:wrap;\n",
              "      gap: 12px;\n",
              "    }\n",
              "\n",
              "    .colab-df-convert {\n",
              "      background-color: #E8F0FE;\n",
              "      border: none;\n",
              "      border-radius: 50%;\n",
              "      cursor: pointer;\n",
              "      display: none;\n",
              "      fill: #1967D2;\n",
              "      height: 32px;\n",
              "      padding: 0 0 0 0;\n",
              "      width: 32px;\n",
              "    }\n",
              "\n",
              "    .colab-df-convert:hover {\n",
              "      background-color: #E2EBFA;\n",
              "      box-shadow: 0px 1px 2px rgba(60, 64, 67, 0.3), 0px 1px 3px 1px rgba(60, 64, 67, 0.15);\n",
              "      fill: #174EA6;\n",
              "    }\n",
              "\n",
              "    [theme=dark] .colab-df-convert {\n",
              "      background-color: #3B4455;\n",
              "      fill: #D2E3FC;\n",
              "    }\n",
              "\n",
              "    [theme=dark] .colab-df-convert:hover {\n",
              "      background-color: #434B5C;\n",
              "      box-shadow: 0px 1px 3px 1px rgba(0, 0, 0, 0.15);\n",
              "      filter: drop-shadow(0px 1px 2px rgba(0, 0, 0, 0.3));\n",
              "      fill: #FFFFFF;\n",
              "    }\n",
              "  </style>\n",
              "\n",
              "      <script>\n",
              "        const buttonEl =\n",
              "          document.querySelector('#df-fb15b28c-1c44-4a08-b28a-e18fb4c74705 button.colab-df-convert');\n",
              "        buttonEl.style.display =\n",
              "          google.colab.kernel.accessAllowed ? 'block' : 'none';\n",
              "\n",
              "        async function convertToInteractive(key) {\n",
              "          const element = document.querySelector('#df-fb15b28c-1c44-4a08-b28a-e18fb4c74705');\n",
              "          const dataTable =\n",
              "            await google.colab.kernel.invokeFunction('convertToInteractive',\n",
              "                                                     [key], {});\n",
              "          if (!dataTable) return;\n",
              "\n",
              "          const docLinkHtml = 'Like what you see? Visit the ' +\n",
              "            '<a target=\"_blank\" href=https://colab.research.google.com/notebooks/data_table.ipynb>data table notebook</a>'\n",
              "            + ' to learn more about interactive tables.';\n",
              "          element.innerHTML = '';\n",
              "          dataTable['output_type'] = 'display_data';\n",
              "          await google.colab.output.renderOutput(dataTable, element);\n",
              "          const docLink = document.createElement('div');\n",
              "          docLink.innerHTML = docLinkHtml;\n",
              "          element.appendChild(docLink);\n",
              "        }\n",
              "      </script>\n",
              "    </div>\n",
              "  </div>\n",
              "  "
            ]
          },
          "metadata": {},
          "execution_count": 11
        }
      ]
    },
    {
      "cell_type": "markdown",
      "source": [
        "Agora definimos os índices dos $\\chi^2$ que obedecem as condições de probabilidade para podermos relacionar com os seus respectivos $\\Omega_m$ e $H_0$ do dataset inicial."
      ],
      "metadata": {
        "id": "UazR0jDgf0aG"
      }
    },
    {
      "cell_type": "code",
      "source": [
        "listachiq2=[]\n",
        "rows2=[]\n",
        "#criamos esse contador para eventualmente descobrir o par (h0,omega m) no data frame inicial, para cada índice dos chis que descobrimos \n",
        "count=0\n",
        "listacontador=[]\n",
        "\n",
        "#o primeiro for está rodando dentro do comprimento da coluna que existe todos os chis, sem filtro algum\n",
        "#geramos também um dataframe que contenha os chis filtrados e logo menos iremos fundí-lo com o dataframe dos contadores\n",
        "\n",
        "for i in range(len(dchisq)):\n",
        "  target=dchisq[i]\n",
        "  count=count+1\n",
        "  if target <= range68:\n",
        "    rows2.append(target)\n",
        "    dframe4=pd.DataFrame(rows2)\n",
        "    listacontador.append(count) \n",
        "  elif target <= range95:\n",
        "    rows2.append(target)\n",
        "    dframe4=pd.DataFrame(rows2) \n",
        "    listacontador.append(count)"
      ],
      "metadata": {
        "id": "waMRN4e1fBEh"
      },
      "execution_count": 12,
      "outputs": []
    },
    {
      "cell_type": "code",
      "source": [
        "dframe5=pd.DataFrame(listacontador)\n",
        "dffs= pd.concat([dframe4, dframe5], axis=1, ignore_index=True)\n",
        "\n",
        "dframe50=dframe5[0]\n",
        "listah0=[]\n",
        "listaomm=[]\n",
        "for i in range(len(dframe5)):\n",
        "  index=dframe50[i]\n",
        "  #aqui é possível achar os parâmetros relacionados aos chis filtrados\n",
        "  listah0.append(dh0[index])\n",
        "  listaomm.append(domm[index])\n",
        "\n",
        "dframe6=pd.DataFrame(listah0)\n",
        "dframe7=pd.DataFrame(listaomm)\n",
        "\n",
        "#concatenamos novamente os dataframes agora gerando um geral que contenha todas as informações necessárias para gerar um scatter \n",
        "\n",
        "dffs1= pd.concat([dframe6, dframe7], axis=1, ignore_index=True)\n",
        "dffs2= pd.concat([dffs1, dffs], axis=1, ignore_index=True)\n",
        "dffs2.rename(columns={0: 'H_0', 1: 'Omega_m0', 2:'Chi quadrado', 3:'Índices'}, inplace = True)\n",
        "dffs2"
      ],
      "metadata": {
        "colab": {
          "base_uri": "https://localhost:8080/",
          "height": 676
        },
        "id": "8_K_K-qvgPAy",
        "outputId": "97fa1f76-b490-4d75-ea0c-eda19d73c7d8"
      },
      "execution_count": 13,
      "outputs": [
        {
          "output_type": "execute_result",
          "data": {
            "text/plain": [
              "    H_0  Omega_m0  Chi quadrado  Índices\n",
              "0    69     0.365    383.069283     3742\n",
              "1    69     0.370    381.308358     3793\n",
              "2    69     0.375    380.508956     3844\n",
              "3    69     0.380    380.638600     3895\n",
              "4    68     0.385    384.180345     3945\n",
              "5    69     0.385    381.666106     3946\n",
              "6    68     0.390    381.299754     3996\n",
              "7    69     0.390    383.561517     3997\n",
              "8    68     0.395    379.333095     4047\n",
              "9    68     0.400    378.250882     4098\n",
              "10   68     0.405    378.024754     4149\n",
              "11   68     0.410    378.627419     4200\n",
              "12   68     0.415    380.032609     4251\n",
              "13   67     0.420    383.400002     4301\n",
              "14   68     0.420    382.215030     4302\n",
              "15   67     0.425    381.781733     4352\n",
              "16   67     0.430    380.959725     4403\n",
              "17   67     0.435    380.909838     4454\n",
              "18   67     0.440    381.608790     4505\n",
              "19   67     0.445    383.034125     4556"
            ],
            "text/html": [
              "\n",
              "  <div id=\"df-68fadebf-350b-41d4-b48e-713db01af556\">\n",
              "    <div class=\"colab-df-container\">\n",
              "      <div>\n",
              "<style scoped>\n",
              "    .dataframe tbody tr th:only-of-type {\n",
              "        vertical-align: middle;\n",
              "    }\n",
              "\n",
              "    .dataframe tbody tr th {\n",
              "        vertical-align: top;\n",
              "    }\n",
              "\n",
              "    .dataframe thead th {\n",
              "        text-align: right;\n",
              "    }\n",
              "</style>\n",
              "<table border=\"1\" class=\"dataframe\">\n",
              "  <thead>\n",
              "    <tr style=\"text-align: right;\">\n",
              "      <th></th>\n",
              "      <th>H_0</th>\n",
              "      <th>Omega_m0</th>\n",
              "      <th>Chi quadrado</th>\n",
              "      <th>Índices</th>\n",
              "    </tr>\n",
              "  </thead>\n",
              "  <tbody>\n",
              "    <tr>\n",
              "      <th>0</th>\n",
              "      <td>69</td>\n",
              "      <td>0.365</td>\n",
              "      <td>383.069283</td>\n",
              "      <td>3742</td>\n",
              "    </tr>\n",
              "    <tr>\n",
              "      <th>1</th>\n",
              "      <td>69</td>\n",
              "      <td>0.370</td>\n",
              "      <td>381.308358</td>\n",
              "      <td>3793</td>\n",
              "    </tr>\n",
              "    <tr>\n",
              "      <th>2</th>\n",
              "      <td>69</td>\n",
              "      <td>0.375</td>\n",
              "      <td>380.508956</td>\n",
              "      <td>3844</td>\n",
              "    </tr>\n",
              "    <tr>\n",
              "      <th>3</th>\n",
              "      <td>69</td>\n",
              "      <td>0.380</td>\n",
              "      <td>380.638600</td>\n",
              "      <td>3895</td>\n",
              "    </tr>\n",
              "    <tr>\n",
              "      <th>4</th>\n",
              "      <td>68</td>\n",
              "      <td>0.385</td>\n",
              "      <td>384.180345</td>\n",
              "      <td>3945</td>\n",
              "    </tr>\n",
              "    <tr>\n",
              "      <th>5</th>\n",
              "      <td>69</td>\n",
              "      <td>0.385</td>\n",
              "      <td>381.666106</td>\n",
              "      <td>3946</td>\n",
              "    </tr>\n",
              "    <tr>\n",
              "      <th>6</th>\n",
              "      <td>68</td>\n",
              "      <td>0.390</td>\n",
              "      <td>381.299754</td>\n",
              "      <td>3996</td>\n",
              "    </tr>\n",
              "    <tr>\n",
              "      <th>7</th>\n",
              "      <td>69</td>\n",
              "      <td>0.390</td>\n",
              "      <td>383.561517</td>\n",
              "      <td>3997</td>\n",
              "    </tr>\n",
              "    <tr>\n",
              "      <th>8</th>\n",
              "      <td>68</td>\n",
              "      <td>0.395</td>\n",
              "      <td>379.333095</td>\n",
              "      <td>4047</td>\n",
              "    </tr>\n",
              "    <tr>\n",
              "      <th>9</th>\n",
              "      <td>68</td>\n",
              "      <td>0.400</td>\n",
              "      <td>378.250882</td>\n",
              "      <td>4098</td>\n",
              "    </tr>\n",
              "    <tr>\n",
              "      <th>10</th>\n",
              "      <td>68</td>\n",
              "      <td>0.405</td>\n",
              "      <td>378.024754</td>\n",
              "      <td>4149</td>\n",
              "    </tr>\n",
              "    <tr>\n",
              "      <th>11</th>\n",
              "      <td>68</td>\n",
              "      <td>0.410</td>\n",
              "      <td>378.627419</td>\n",
              "      <td>4200</td>\n",
              "    </tr>\n",
              "    <tr>\n",
              "      <th>12</th>\n",
              "      <td>68</td>\n",
              "      <td>0.415</td>\n",
              "      <td>380.032609</td>\n",
              "      <td>4251</td>\n",
              "    </tr>\n",
              "    <tr>\n",
              "      <th>13</th>\n",
              "      <td>67</td>\n",
              "      <td>0.420</td>\n",
              "      <td>383.400002</td>\n",
              "      <td>4301</td>\n",
              "    </tr>\n",
              "    <tr>\n",
              "      <th>14</th>\n",
              "      <td>68</td>\n",
              "      <td>0.420</td>\n",
              "      <td>382.215030</td>\n",
              "      <td>4302</td>\n",
              "    </tr>\n",
              "    <tr>\n",
              "      <th>15</th>\n",
              "      <td>67</td>\n",
              "      <td>0.425</td>\n",
              "      <td>381.781733</td>\n",
              "      <td>4352</td>\n",
              "    </tr>\n",
              "    <tr>\n",
              "      <th>16</th>\n",
              "      <td>67</td>\n",
              "      <td>0.430</td>\n",
              "      <td>380.959725</td>\n",
              "      <td>4403</td>\n",
              "    </tr>\n",
              "    <tr>\n",
              "      <th>17</th>\n",
              "      <td>67</td>\n",
              "      <td>0.435</td>\n",
              "      <td>380.909838</td>\n",
              "      <td>4454</td>\n",
              "    </tr>\n",
              "    <tr>\n",
              "      <th>18</th>\n",
              "      <td>67</td>\n",
              "      <td>0.440</td>\n",
              "      <td>381.608790</td>\n",
              "      <td>4505</td>\n",
              "    </tr>\n",
              "    <tr>\n",
              "      <th>19</th>\n",
              "      <td>67</td>\n",
              "      <td>0.445</td>\n",
              "      <td>383.034125</td>\n",
              "      <td>4556</td>\n",
              "    </tr>\n",
              "  </tbody>\n",
              "</table>\n",
              "</div>\n",
              "      <button class=\"colab-df-convert\" onclick=\"convertToInteractive('df-68fadebf-350b-41d4-b48e-713db01af556')\"\n",
              "              title=\"Convert this dataframe to an interactive table.\"\n",
              "              style=\"display:none;\">\n",
              "        \n",
              "  <svg xmlns=\"http://www.w3.org/2000/svg\" height=\"24px\"viewBox=\"0 0 24 24\"\n",
              "       width=\"24px\">\n",
              "    <path d=\"M0 0h24v24H0V0z\" fill=\"none\"/>\n",
              "    <path d=\"M18.56 5.44l.94 2.06.94-2.06 2.06-.94-2.06-.94-.94-2.06-.94 2.06-2.06.94zm-11 1L8.5 8.5l.94-2.06 2.06-.94-2.06-.94L8.5 2.5l-.94 2.06-2.06.94zm10 10l.94 2.06.94-2.06 2.06-.94-2.06-.94-.94-2.06-.94 2.06-2.06.94z\"/><path d=\"M17.41 7.96l-1.37-1.37c-.4-.4-.92-.59-1.43-.59-.52 0-1.04.2-1.43.59L10.3 9.45l-7.72 7.72c-.78.78-.78 2.05 0 2.83L4 21.41c.39.39.9.59 1.41.59.51 0 1.02-.2 1.41-.59l7.78-7.78 2.81-2.81c.8-.78.8-2.07 0-2.86zM5.41 20L4 18.59l7.72-7.72 1.47 1.35L5.41 20z\"/>\n",
              "  </svg>\n",
              "      </button>\n",
              "      \n",
              "  <style>\n",
              "    .colab-df-container {\n",
              "      display:flex;\n",
              "      flex-wrap:wrap;\n",
              "      gap: 12px;\n",
              "    }\n",
              "\n",
              "    .colab-df-convert {\n",
              "      background-color: #E8F0FE;\n",
              "      border: none;\n",
              "      border-radius: 50%;\n",
              "      cursor: pointer;\n",
              "      display: none;\n",
              "      fill: #1967D2;\n",
              "      height: 32px;\n",
              "      padding: 0 0 0 0;\n",
              "      width: 32px;\n",
              "    }\n",
              "\n",
              "    .colab-df-convert:hover {\n",
              "      background-color: #E2EBFA;\n",
              "      box-shadow: 0px 1px 2px rgba(60, 64, 67, 0.3), 0px 1px 3px 1px rgba(60, 64, 67, 0.15);\n",
              "      fill: #174EA6;\n",
              "    }\n",
              "\n",
              "    [theme=dark] .colab-df-convert {\n",
              "      background-color: #3B4455;\n",
              "      fill: #D2E3FC;\n",
              "    }\n",
              "\n",
              "    [theme=dark] .colab-df-convert:hover {\n",
              "      background-color: #434B5C;\n",
              "      box-shadow: 0px 1px 3px 1px rgba(0, 0, 0, 0.15);\n",
              "      filter: drop-shadow(0px 1px 2px rgba(0, 0, 0, 0.3));\n",
              "      fill: #FFFFFF;\n",
              "    }\n",
              "  </style>\n",
              "\n",
              "      <script>\n",
              "        const buttonEl =\n",
              "          document.querySelector('#df-68fadebf-350b-41d4-b48e-713db01af556 button.colab-df-convert');\n",
              "        buttonEl.style.display =\n",
              "          google.colab.kernel.accessAllowed ? 'block' : 'none';\n",
              "\n",
              "        async function convertToInteractive(key) {\n",
              "          const element = document.querySelector('#df-68fadebf-350b-41d4-b48e-713db01af556');\n",
              "          const dataTable =\n",
              "            await google.colab.kernel.invokeFunction('convertToInteractive',\n",
              "                                                     [key], {});\n",
              "          if (!dataTable) return;\n",
              "\n",
              "          const docLinkHtml = 'Like what you see? Visit the ' +\n",
              "            '<a target=\"_blank\" href=https://colab.research.google.com/notebooks/data_table.ipynb>data table notebook</a>'\n",
              "            + ' to learn more about interactive tables.';\n",
              "          element.innerHTML = '';\n",
              "          dataTable['output_type'] = 'display_data';\n",
              "          await google.colab.output.renderOutput(dataTable, element);\n",
              "          const docLink = document.createElement('div');\n",
              "          docLink.innerHTML = docLinkHtml;\n",
              "          element.appendChild(docLink);\n",
              "        }\n",
              "      </script>\n",
              "    </div>\n",
              "  </div>\n",
              "  "
            ]
          },
          "metadata": {},
          "execution_count": 13
        }
      ]
    },
    {
      "cell_type": "markdown",
      "source": [
        "Buscamos entender como a expansão do universo dada por H0 e a composição do mesmo, através da matéria (e também da energia escura), se correlaciona. Utilizamos a covariância, afim de comparar, estatisticamente, as duas variáveis em questão, permitindo entender como elas se relacionam."
      ],
      "metadata": {
        "id": "HKq_teGDa-0A"
      }
    },
    {
      "cell_type": "markdown",
      "source": [
        "Para isto, sabendo que uma elipse de erro representa um iso-contorno da distribuição gaussiana e ajuda a  visualizar um intervalo de confiança 2D. Montaremos a seguir um gráfico que mostra um intervalo de 68% (1${\\sigma}$) e 95% (2${\\sigma}$) para um conjunto de dados normalmente distribuídos."
      ],
      "metadata": {
        "id": "Bq8SR2nSaAhM"
      }
    },
    {
      "cell_type": "code",
      "source": [
        "#Salvamos as colunas de h0, omega m em variáveis\n",
        "h0l = dffs2['H_0']\n",
        "oml = dffs2['Omega_m0']\n",
        "\n",
        "\n",
        "#Definimos uma função que retorna os autovalores e autovetores de uma matriz Hermitiana complexa (conjugada simétrica) ou uma matriz simétrica real.\n",
        "#essa matriz, posteriormente, mostramos ser composta exatamente dos pontos covariantes\n",
        "\n",
        "def eigsorted(cov):                     \n",
        "    lambda_, v = np.linalg.eigh(cov)\n",
        "    order = lambda_.argsort()[::-1]\n",
        "    return lambda_[order], v[:,order]\n",
        "\n",
        "\n",
        "#salvamos os pontos, derivados do dataframe gerado por último, em 2 listas\n",
        "\n",
        "listax = []\n",
        "listay= []\n",
        "for n, h in zip(h0l, oml):\n",
        "  listax.append(n)\n",
        "  listay.append(h)\n",
        "\n",
        "#Função de covariância dos pontos\n",
        "cov = np.cov(listax, listay)\n",
        "lambda_, v = np.linalg.eig(cov) #aplica as listas covariadas para gerarem autovalores e autovetores\n",
        "lambda_ = np.sqrt(lambda_)\n",
        "\n",
        "\n",
        "#Geramos as elipses\n",
        "ax = plt.subplot()                                                    #Necessário para plotar os 2 gráficos juntos\n",
        "ell = Ellipse(xy=(np.mean(listax), np.mean(listay)),                #Eixos da elipse\n",
        "              width=lambda_[0]*2, height=lambda_[1]*2.5,        #Ajuste do tamanho da elipse\n",
        "              angle=np.rad2deg(np.arcsin(v[1, 0])), color='firebrick')  #Ajuste da angulatura da elipse\n",
        "ell.set_facecolor('none')\n",
        "ell1 = Ellipse(xy=(np.mean(listax), np.mean(listay)),                #Eixos da elipse\n",
        "              width=lambda_[0]*2*2, height=lambda_[1]*2*2.5,        #Ajuste do tamanho da elipse\n",
        "              angle=np.rad2deg(np.arcsin(v[1, 0])), color='blue')\n",
        "ell1.set_facecolor('none')\n",
        "ax.add_artist(ell)\n",
        "ax.add_artist(ell1)\n",
        "\n",
        "#Fazemos a visualização dos dados espalhando os pontos covariantes \n",
        "\n",
        "plt.scatter(listax, listay, color=\"green\")\n",
        "plt.xlabel(\"$H_0$\", fontsize=18)\n",
        "plt.ylabel(\"$\\Omega_{m,0}$\", fontsize=18)\n",
        "plt.xlim(65,71)\n",
        "plt.ylim(0.3,0.5)\n",
        "plt.title(\"Intervalo de confiança do modelo cosmológico encontrado\")"
      ],
      "metadata": {
        "colab": {
          "base_uri": "https://localhost:8080/",
          "height": 323
        },
        "id": "aX9hRsNPgmgS",
        "outputId": "bd9cbbe2-75c6-4980-d8b3-b1396b28f477"
      },
      "execution_count": 14,
      "outputs": [
        {
          "output_type": "execute_result",
          "data": {
            "text/plain": [
              "Text(0.5, 1.0, 'Intervalo de confiança do modelo cosmológico encontrado')"
            ]
          },
          "metadata": {},
          "execution_count": 14
        },
        {
          "output_type": "display_data",
          "data": {
            "text/plain": [
              "<Figure size 432x288 with 1 Axes>"
            ],
            "image/png": "[encoded data removed]"
          },
          "metadata": {
            "needs_background": "light"
          }
        }
      ]
    },
    {
      "cell_type": "markdown",
      "source": [
        "Os dados em verde representam os pontos dos pares de $\\Omega_{m,0}$ e $H_0$ e as elipses, mostram os intervalos de confiança que estudamos. Vemos que os pontos que mais chegam perto do melhor ponto que representa o modelo cosmológico, encontramos dentro da elipse menor, que por sua vez representa uma probabilidade menor porém mais refinada em certeza de que a resposta está dentro de sua área.\n",
        "\n",
        "Ratificamos que os pontos dentro da elipse maior possuem 95% de confiança, enquanto os que se encontram dentro da elipse menor, 68%."
      ],
      "metadata": {
        "id": "A_C6fs23nKGk"
      }
    },
    {
      "cell_type": "markdown",
      "source": [
        "Referências:\n",
        "\n",
        "1. \n",
        "http://www.cs.utah.edu/~tch/CS6640F2020/resources/How%20to%20draw%20a%20covariance%20error%20ellipse.pdf\n",
        "\n",
        "2. https://stackoverflow.com/questions/20126061/creating-a-confidence-ellipses-in-a-sccatterplot-using-matplotlib\n",
        "\n",
        "3. https://numpy.org/doc/stable/reference/generated/numpy.linalg.eigh.html\n",
        "\n",
        "4. https://matplotlib.org/3.5.0/gallery/statistics/confidence_ellipse.html#sphx-glr-gallery-statistics-confidence-ellipse-py\n",
        "\n"
      ],
      "metadata": {
        "id": "7sC-Cdh7lh7l"
      }
    }
  ]
}