{
  "nbformat": 4,
  "nbformat_minor": 0,
  "metadata": {
    "colab": {
      "name": "2chapter8_RYDEN_ITC.ipynb",
      "provenance": [],
      "collapsed_sections": []
    },
    "kernelspec": {
      "name": "python3",
      "display_name": "Python 3"
    },
    "language_info": {
      "name": "python"
    }
  },
  "cells": [
    {
      "cell_type": "code",
      "execution_count": null,
      "metadata": {
        "id": "X1TutpXODn7K"
      },
      "outputs": [],
      "source": [
        "import pandas as pd\n",
        "import numpy as np"
      ]
    },
    {
      "cell_type": "markdown",
      "source": [
        "🐄 Suponha que foi sugerido que buracos negros de massa $10^{-8}M_{\\odot}$ \n",
        "toda a matéria escura no halo de nossa Galáxia. \n",
        "\n",
        "  a) Quão longe seria\n",
        "você espera que o buraco negro mais próximo seja? \n",
        "\n",
        "  b) Com que frequência seria\n",
        "você espera que tal buraco negro passe dentro de 1 UA do Sol? (A\n",
        "estimativa de ordem de grandeza é suficiente.)\n",
        "\n",
        "🐄 Suponha que foi sugerido que MACHOs de massa $10^{-3}M_{\\odot}$ (cerca de\n",
        "massa de Júpiter) compunha toda a matéria escura no halo de nossa galáxia.\n",
        "\n",
        "  c) A que distância você espera que o MACHO mais próximo esteja? \n",
        "\n",
        "  d) Quão freqüentemente tal MACHO passaria a 1 UA do Sol? (Novamente,\n",
        "uma estimativa de ordem de grandeza será suficiente.)"
      ],
      "metadata": {
        "id": "mft5-2IFEc2f"
      }
    },
    {
      "cell_type": "markdown",
      "source": [
        "➡ Supondo que a composição da matéria escura esteja relacionada com buracos negros. Calculamos a densidade dentro de um range para o raio efetivo variando entre $d=8200± 200 pc$.\n",
        "\n",
        "➡ Dito isso, buscamos inicialmente determinar a densidade de matéria $ρ_{m} = \\frac{ΔM(R)}{ΔV(R)}$ onde  $M(R)= \\frac{v^{2}R}{G}$ sendo $v=235km/s$ e $G=4.3\\cdot10^{-6}\\frac{Kpc}{M_{⊙}}\\frac{km^{2}}{s^{2}}$; e para o volume temos $ V(R)= \\frac{4πR^{3}}{3}$ para acharmos a distância do buraco negro mais próximo."
      ],
      "metadata": {
        "id": "o2dUWzt-FuG-"
      }
    },
    {
      "cell_type": "code",
      "source": [
        "#iniciamos convertendo km/s para AU/yr, daí:\n",
        "\n",
        "v = (235e3*3.156e7*206265)/(3.086e16)\n",
        "print(v,'AU/yr')"
      ],
      "metadata": {
        "colab": {
          "base_uri": "https://localhost:8080/"
        },
        "id": "y7m6_8RIHzb3",
        "outputId": "4d5b998e-58af-4fac-8bec-0fe057e2d387"
      },
      "execution_count": null,
      "outputs": [
        {
          "output_type": "stream",
          "name": "stdout",
          "text": [
            "49.57177572909916 AU/yr\n"
          ]
        }
      ]
    },
    {
      "cell_type": "code",
      "source": [
        "G= (6.67e-11*1.99e30)/(1e6*3.09e19)\n",
        "G\n",
        "#colocar as unidades necessárias no print"
      ],
      "metadata": {
        "colab": {
          "base_uri": "https://localhost:8080/"
        },
        "id": "SrIEgHrvD1u5",
        "outputId": "65308539-17b6-4ca0-c7e8-43ddf4dfafd4"
      },
      "execution_count": null,
      "outputs": [
        {
          "output_type": "execute_result",
          "data": {
            "text/plain": [
              "4.295566343042071e-06"
            ]
          },
          "metadata": {},
          "execution_count": 3
        }
      ]
    },
    {
      "cell_type": "code",
      "source": [
        "R=8.4\n",
        "#é necessário fazer tais mudanças pois a velocidade está em AU/yr e a constante gravitacional está em km²/s²\n",
        "M8400= (np.power(v,2)*R*(1.49e8)**2)/(G*(3.156e7)**2)\n",
        "M8400"
      ],
      "metadata": {
        "colab": {
          "base_uri": "https://localhost:8080/"
        },
        "id": "ndkPV8DINxl6",
        "outputId": "c73cd8c3-76bb-4fbe-ac01-352e060a360d"
      },
      "execution_count": null,
      "outputs": [
        {
          "output_type": "execute_result",
          "data": {
            "text/plain": [
              "107109096356.08136"
            ]
          },
          "metadata": {},
          "execution_count": 4
        }
      ]
    },
    {
      "cell_type": "code",
      "source": [
        "R=8\n",
        "M8000= (np.power(v,2)*R*(1.49e8)**2)/(G*(3.156e7)**2)\n",
        "M8000"
      ],
      "metadata": {
        "colab": {
          "base_uri": "https://localhost:8080/"
        },
        "id": "tuHeSgTKP0oj",
        "outputId": "4ceb6788-e0f6-426e-c4bd-bbf1dd4bbdce"
      },
      "execution_count": null,
      "outputs": [
        {
          "output_type": "execute_result",
          "data": {
            "text/plain": [
              "102008663196.26797"
            ]
          },
          "metadata": {},
          "execution_count": 5
        }
      ]
    },
    {
      "cell_type": "code",
      "source": [
        "deltaM= M8400-M8000\n",
        "deltaM"
      ],
      "metadata": {
        "colab": {
          "base_uri": "https://localhost:8080/"
        },
        "id": "jG938YK0QbBH",
        "outputId": "1d6a3d3f-4303-46f9-c534-0629b092ef5b"
      },
      "execution_count": null,
      "outputs": [
        {
          "output_type": "execute_result",
          "data": {
            "text/plain": [
              "5100433159.813385"
            ]
          },
          "metadata": {},
          "execution_count": 6
        }
      ]
    },
    {
      "cell_type": "code",
      "source": [
        "pi=3.14159265359\n",
        "\n",
        "V8400= (4*pi*(8.4**3))/3\n",
        "V8400"
      ],
      "metadata": {
        "colab": {
          "base_uri": "https://localhost:8080/"
        },
        "id": "zNsQwvSgQgv6",
        "outputId": "5bb21370-9592-4916-9e92-b1f9bf55a491"
      },
      "execution_count": null,
      "outputs": [
        {
          "output_type": "execute_result",
          "data": {
            "text/plain": [
              "2482.712709537877"
            ]
          },
          "metadata": {},
          "execution_count": 7
        }
      ]
    },
    {
      "cell_type": "code",
      "source": [
        "V8000=(4*pi*(8**3))/3\n",
        "V8000"
      ],
      "metadata": {
        "colab": {
          "base_uri": "https://localhost:8080/"
        },
        "id": "729W53QfRXaz",
        "outputId": "4601d37e-f956-4f2c-bb3d-7678a94994b4"
      },
      "execution_count": null,
      "outputs": [
        {
          "output_type": "execute_result",
          "data": {
            "text/plain": [
              "2144.6605848507734"
            ]
          },
          "metadata": {},
          "execution_count": 8
        }
      ]
    },
    {
      "cell_type": "code",
      "source": [
        "deltaV=V8400-V8000\n",
        "deltaV"
      ],
      "metadata": {
        "colab": {
          "base_uri": "https://localhost:8080/"
        },
        "id": "HJUQA3s5RmCV",
        "outputId": "13a742e7-624f-44e6-b580-77810da3e652"
      },
      "execution_count": null,
      "outputs": [
        {
          "output_type": "execute_result",
          "data": {
            "text/plain": [
              "338.0521246871035"
            ]
          },
          "metadata": {},
          "execution_count": 9
        }
      ]
    },
    {
      "cell_type": "code",
      "source": [
        "rho_m= (deltaM)/(deltaV)\n",
        "print(rho_m,'Msol/Kpc³')"
      ],
      "metadata": {
        "colab": {
          "base_uri": "https://localhost:8080/"
        },
        "id": "TQ40bS0KRqbw",
        "outputId": "d69e61d3-9fc3-4fce-d432-c8813a793325"
      },
      "execution_count": null,
      "outputs": [
        {
          "output_type": "stream",
          "name": "stdout",
          "text": [
            "15087712.1820615 Msol/Kpc³\n"
          ]
        }
      ]
    },
    {
      "cell_type": "markdown",
      "source": [
        "Daí, encontramos a densidade da matéria sendo $\\rho ≈ 1.5 × 10^{7} M⊙/Ḱpc^{3}$\n",
        "\n",
        "Buscamos alterar essa densidade para parsec, de maneira que eventualmente transformaremos para unidade astronômica pois o enunciado segue essa linha de raciocínio. Por isso fazemos $\\frac{M_{⊙}}{(10^{3}pc)^{3}}$"
      ],
      "metadata": {
        "id": "Uaa8Vn-AdcR7"
      }
    },
    {
      "cell_type": "code",
      "source": [
        "rho_m1= rho_m/1e9\n",
        "rho_m1"
      ],
      "metadata": {
        "colab": {
          "base_uri": "https://localhost:8080/"
        },
        "id": "lc0m3IXIeWRD",
        "outputId": "433d307a-9811-424e-f5de-133242674d14"
      },
      "execution_count": null,
      "outputs": [
        {
          "output_type": "execute_result",
          "data": {
            "text/plain": [
              "0.015087712182061501"
            ]
          },
          "metadata": {},
          "execution_count": 11
        }
      ]
    },
    {
      "cell_type": "markdown",
      "source": [
        "Dito isso, sabemos que a densidade de buracos negros é $\\frac{2ρ_{m}}{3}$, então temos:"
      ],
      "metadata": {
        "id": "B1Gujtm8f4wn"
      }
    },
    {
      "cell_type": "code",
      "source": [
        "rho_bn=(2/3)*rho_m1\n",
        "rho_bn"
      ],
      "metadata": {
        "colab": {
          "base_uri": "https://localhost:8080/"
        },
        "id": "wBfFxEoueWOC",
        "outputId": "413d3371-d0cc-4436-9a55-19524b553f79"
      },
      "execution_count": null,
      "outputs": [
        {
          "output_type": "execute_result",
          "data": {
            "text/plain": [
              "0.010058474788041"
            ]
          },
          "metadata": {},
          "execution_count": 12
        }
      ]
    },
    {
      "cell_type": "markdown",
      "source": [
        "Daí, a densidade numérica de buracos negros é dado por $n=\\frac{ρ_{bn}}{m_{bn}}$"
      ],
      "metadata": {
        "id": "TddIdTipTH5T"
      }
    },
    {
      "cell_type": "code",
      "source": [
        "m_bn= 1e-8\n",
        "n= (rho_bn)/(m_bn)\n",
        "print(n,'pc⁻³')"
      ],
      "metadata": {
        "colab": {
          "base_uri": "https://localhost:8080/"
        },
        "id": "8I_rkTJYRw0i",
        "outputId": "240c6a94-f191-41f6-9ab4-39190801af5b"
      },
      "execution_count": null,
      "outputs": [
        {
          "output_type": "stream",
          "name": "stdout",
          "text": [
            "1005847.4788041 pc⁻³\n"
          ]
        }
      ]
    },
    {
      "cell_type": "markdown",
      "source": [
        "Para unidade astronômica, transformamos essa densidade numérica fazendo: $\\frac{1}{(206265)^{3} AU^{3}}$"
      ],
      "metadata": {
        "id": "J_TyTt4lgu7J"
      }
    },
    {
      "cell_type": "code",
      "source": [
        "n1=(n/(206265**3))\n",
        "print(n1,'AU⁻³')"
      ],
      "metadata": {
        "colab": {
          "base_uri": "https://localhost:8080/"
        },
        "id": "J16OvL6Fhm-x",
        "outputId": "9cf56447-e596-4240-cb1c-92c71584f2c2"
      },
      "execution_count": null,
      "outputs": [
        {
          "output_type": "stream",
          "name": "stdout",
          "text": [
            "1.1461870789033616e-10 AU⁻³\n"
          ]
        }
      ]
    },
    {
      "cell_type": "markdown",
      "source": [
        "A distância mais próxima está relacionada com $n⋅V=1$ pois $n = \\frac{N}{V}$ então $N=1$ $\\therefore$ já que $ V(R)= \\frac{4πR^{3}}{3}$  concluímos que a distância será $d= \\sqrt[3]{\\frac{3}{n4\\pi}}$, daí:"
      ],
      "metadata": {
        "id": "Iv1XXw27TqYX"
      }
    },
    {
      "cell_type": "code",
      "source": [
        "d = ((3)/(n1*4*pi))**(1/3)\n",
        "print(d,'AU')"
      ],
      "metadata": {
        "colab": {
          "base_uri": "https://localhost:8080/"
        },
        "id": "IQ0U7vaSTqJA",
        "outputId": "0cbcdfee-f6ff-4ef8-f422-cf4f0801ec26"
      },
      "execution_count": null,
      "outputs": [
        {
          "output_type": "stream",
          "name": "stdout",
          "text": [
            "1277.0815405241792 AU\n"
          ]
        }
      ]
    },
    {
      "cell_type": "markdown",
      "source": [
        "A frequência que esperamos encontrar um buraco negro dentro de 1AU está intimamente ligada a taxa de interação das partículas, que por sua vez depende fortemente da seção de choque. Sendo esta última $σ_{AU}= \\pi \\cdot d^{2}$ então $Γ=nσ_{AU}v$. Façamos isso para achar a frequência para uma distância de 1UA, daí:"
      ],
      "metadata": {
        "id": "CbfOneqfV2NJ"
      }
    },
    {
      "cell_type": "code",
      "source": [
        "d1=1\n",
        "sigma=pi*(d1**2)\n",
        "sigma"
      ],
      "metadata": {
        "colab": {
          "base_uri": "https://localhost:8080/"
        },
        "id": "Ss1lBCFXVmeY",
        "outputId": "ca145ab1-edbf-49e0-919f-c613647f33f7"
      },
      "execution_count": null,
      "outputs": [
        {
          "output_type": "execute_result",
          "data": {
            "text/plain": [
              "3.14159265359"
            ]
          },
          "metadata": {},
          "execution_count": 16
        }
      ]
    },
    {
      "cell_type": "code",
      "source": [
        "gama=n1*sigma*v\n",
        "print(gama,'yr⁻¹')"
      ],
      "metadata": {
        "colab": {
          "base_uri": "https://localhost:8080/"
        },
        "id": "TPqXF2ReW4Di",
        "outputId": "5d3cc313-924a-40ef-f4c6-5889d38e5fbb"
      },
      "execution_count": null,
      "outputs": [
        {
          "output_type": "stream",
          "name": "stdout",
          "text": [
            "1.785006727255267e-08 yr⁻¹\n"
          ]
        }
      ]
    },
    {
      "cell_type": "markdown",
      "source": [
        "Podemos ver essa frequência em Gyr de maneira que possamos comparar quantas vezes buracos negros já entraram neste raio desde o início do universo. Por isso fazemos $gama ⋅ \\frac{10^{9} yr}{1 Gyr}$"
      ],
      "metadata": {
        "id": "IPXOu6aHjzCP"
      }
    },
    {
      "cell_type": "code",
      "source": [
        "gama1= gama*1e9\n",
        "print(gama1,'Gyr⁻¹')"
      ],
      "metadata": {
        "colab": {
          "base_uri": "https://localhost:8080/"
        },
        "id": "kmzetIivXE09",
        "outputId": "871f6bbb-9de8-407c-d605-c229d293106e"
      },
      "execution_count": null,
      "outputs": [
        {
          "output_type": "stream",
          "name": "stdout",
          "text": [
            "17.850067272552668 Gyr⁻¹\n"
          ]
        }
      ]
    },
    {
      "cell_type": "markdown",
      "source": [
        "Repitimos os mesmos passos agora supondo que a matéria escura seja feita de MACHOS de uma forma geral, mas percebemos que haverá mudanças a partir da densidade numérica e partimos daí.\n",
        "\n",
        "Assumimos uma massa $10^{-3}M_{\\odot}$. "
      ],
      "metadata": {
        "id": "10ooYcc3lKIu"
      }
    },
    {
      "cell_type": "code",
      "source": [
        "m_machos= 1e-3\n",
        "n2= (rho_bn)/(m_machos)\n",
        "print(n2,'pc⁻³')"
      ],
      "metadata": {
        "colab": {
          "base_uri": "https://localhost:8080/"
        },
        "id": "BfGGdF8FkkDU",
        "outputId": "551fc92b-0f74-4e49-f900-4002cef3e716"
      },
      "execution_count": null,
      "outputs": [
        {
          "output_type": "stream",
          "name": "stdout",
          "text": [
            "10.058474788041 pc⁻³\n"
          ]
        }
      ]
    },
    {
      "cell_type": "code",
      "source": [
        "n3=(n2/(206265**3))\n",
        "print(n3,'AU⁻³')"
      ],
      "metadata": {
        "colab": {
          "base_uri": "https://localhost:8080/"
        },
        "id": "DBDXbNthmUfp",
        "outputId": "0a665dc5-184e-4380-a394-2de9a9a3f9f6"
      },
      "execution_count": null,
      "outputs": [
        {
          "output_type": "stream",
          "name": "stdout",
          "text": [
            "1.1461870789033616e-15 AU⁻³\n"
          ]
        }
      ]
    },
    {
      "cell_type": "markdown",
      "source": [
        "Então a distância do MACHOS mais próxima será:"
      ],
      "metadata": {
        "id": "eY4YXZ7XmF14"
      }
    },
    {
      "cell_type": "code",
      "source": [
        "d_machos = ((3)/(n3*4*pi))**(1/3)\n",
        "print(d_machos,'AU')"
      ],
      "metadata": {
        "colab": {
          "base_uri": "https://localhost:8080/"
        },
        "id": "J69p9vdrl-64",
        "outputId": "5b103e34-8d77-4351-af5f-07018ab6dba9"
      },
      "execution_count": null,
      "outputs": [
        {
          "output_type": "stream",
          "name": "stdout",
          "text": [
            "59276.87418110035 AU\n"
          ]
        }
      ]
    },
    {
      "cell_type": "markdown",
      "source": [
        "Então a frequência que vemos MACHOS dentro de 1UA será:"
      ],
      "metadata": {
        "id": "zqWh925wnYPk"
      }
    },
    {
      "cell_type": "code",
      "source": [
        "gama_machos=n3*sigma*v\n",
        "print(gama_machos,'yr⁻¹')"
      ],
      "metadata": {
        "colab": {
          "base_uri": "https://localhost:8080/"
        },
        "id": "fO03-euInIrQ",
        "outputId": "cc429448-6cd8-4d0c-d33d-0c08d059574c"
      },
      "execution_count": null,
      "outputs": [
        {
          "output_type": "stream",
          "name": "stdout",
          "text": [
            "1.7850067272552666e-13 yr⁻¹\n"
          ]
        }
      ]
    },
    {
      "cell_type": "code",
      "source": [
        "gama1_machos= gama_machos*1e9\n",
        "print(gama1_machos,'Gyr⁻¹')"
      ],
      "metadata": {
        "colab": {
          "base_uri": "https://localhost:8080/"
        },
        "id": "cbwzoaFGnmtq",
        "outputId": "a82a4240-7c77-4562-c410-9b4ceb25a571"
      },
      "execution_count": null,
      "outputs": [
        {
          "output_type": "stream",
          "name": "stdout",
          "text": [
            "0.00017850067272552665 Gyr⁻¹\n"
          ]
        }
      ]
    },
    {
      "cell_type": "markdown",
      "source": [
        "🐄 A galáxia Draco é uma galáxia anã dentro do Grupo Local. Sua luminosidade é $L = (1,8 ± 0,8)\\times 10^{5} L_{⊙} $ e metade de sua luminosidade total é contido dentro de uma esfera de raio $r_{h} = 120 ± 12$ pc. A gigante vermelha\n",
        "estrelas na galáxia Draco são brilhantes o suficiente para ter sua linha de visão\n",
        "velocidades medidas. A dispersão de velocidade medida da gigante vermelha\n",
        "estrelas na galáxia Draco é $σ_{r} = 10,5 ± 2,2 kms^{−1}$ .\n",
        "\n",
        "\n",
        "   a) Qual a massa da galáxia Draco?\n",
        "   \n",
        "   b) Qual é a sua relação massa-luz? Descreva o\n",
        "possíveis fontes de erro em sua estimativa de massa desta galáxia."
      ],
      "metadata": {
        "id": "rTsLBKu7olaH"
      }
    },
    {
      "cell_type": "markdown",
      "source": [
        "→ Partimos do teorema do Virial para um estado estacionário: $\\frac{M<v^{2}>}{2}=\\frac{αGM^{2}}{2r_{h}}$\n",
        "\n",
        "onde $<v^{2}>$ é a dispersão de velocidade e ela representa $3σ^{2}$ pois consideramos uma esfera isotrópica. Assumimos que dentro do raio efetivo exista metade da massa (o que já causa uma problemática) e utilizamos α = 0.45 e ele depende do tipo de galáxia. \n",
        "\n",
        "Dito isso, isolamos a massa dentro do teorema do Virial e buscamos também determinar a incerteza ΔM envolvida no problema, $\\therefore$ fazemos:"
      ],
      "metadata": {
        "id": "BplUlHibu5un"
      }
    },
    {
      "cell_type": "code",
      "source": [
        "sigma=10.5\n",
        "rh=120\n",
        "alpha=0.45\n",
        "G=4.3e-3 #pc/Msol*(km/s)²"
      ],
      "metadata": {
        "id": "xDVhtVHan8e8"
      },
      "execution_count": null,
      "outputs": []
    },
    {
      "cell_type": "code",
      "source": [
        "M=(3*sigma**2*rh)/(alpha*G)\n",
        "print(M,'Msol')"
      ],
      "metadata": {
        "colab": {
          "base_uri": "https://localhost:8080/"
        },
        "id": "XqTOkhvdxov0",
        "outputId": "868217d0-a154-4155-fa1b-b1a51dd60ac5"
      },
      "execution_count": null,
      "outputs": [
        {
          "output_type": "stream",
          "name": "stdout",
          "text": [
            "20511627.906976745 Msol\n"
          ]
        }
      ]
    },
    {
      "cell_type": "markdown",
      "source": [
        "Para calcularmos a incerteza fazemos \n",
        "\n",
        "$(ΔM)^{2} =  (\\frac{\\partial M}{\\partial \\sigma_{r}} Δ\\sigma_{r})^{2} + (\\frac{\\partial M}{\\partial r_{h}} Δr_{h})^{2}$\n",
        "\n",
        "sendo $\\frac{\\partial M}{\\partial \\sigma_{r}} = \\frac{6r_{h}σ_{r}}{αG}$ e $\\frac{\\partial M}{\\partial r_{h}}= \\frac{3σ^{2}}{αG}$ e os acréscimos são $Δ\\sigma_{r}= 2.2 kms^{-1}$ e $Δr_{h}=12 pc$ "
      ],
      "metadata": {
        "id": "5q-FYApB3AWq"
      }
    },
    {
      "cell_type": "code",
      "source": [
        "d1=((6*rh*sigma*2.2)/(alpha*G))**2\n",
        "d1\n"
      ],
      "metadata": {
        "colab": {
          "base_uri": "https://localhost:8080/"
        },
        "id": "rRMn9MRmxy9z",
        "outputId": "28b6fc95-8922-49c2-f99b-857dbb0b2bb0"
      },
      "execution_count": null,
      "outputs": [
        {
          "output_type": "execute_result",
          "data": {
            "text/plain": [
              "73880021633315.28"
            ]
          },
          "metadata": {},
          "execution_count": 31
        }
      ]
    },
    {
      "cell_type": "code",
      "source": [
        "d2=((36*sigma**2)/(alpha*G))**2\n",
        "d2"
      ],
      "metadata": {
        "colab": {
          "base_uri": "https://localhost:8080/"
        },
        "id": "Oqy8tqjZ1kpv",
        "outputId": "30ef8bf7-ff52-4260-d58f-5ede5bce6f20"
      },
      "execution_count": null,
      "outputs": [
        {
          "output_type": "execute_result",
          "data": {
            "text/plain": [
              "4207268793942.671"
            ]
          },
          "metadata": {},
          "execution_count": 32
        }
      ]
    },
    {
      "cell_type": "code",
      "source": [
        "deltaM=np.sqrt((d1+d2))\n",
        "print(deltaM,'Msol')"
      ],
      "metadata": {
        "colab": {
          "base_uri": "https://localhost:8080/"
        },
        "id": "6gI6pcGI1-Kc",
        "outputId": "fecf0569-d01b-4ee7-bb22-4d01a6f7662e"
      },
      "execution_count": null,
      "outputs": [
        {
          "output_type": "stream",
          "name": "stdout",
          "text": [
            "8836701.331789931 Msol\n"
          ]
        }
      ]
    },
    {
      "cell_type": "markdown",
      "source": [
        "Portando, concluímos que $M \\approx (2.05± 0.9)10^{7} M_{⊙}$\n",
        "\n",
        "---\n",
        "\n"
      ],
      "metadata": {
        "id": "P99ezS6o2ac8"
      }
    },
    {
      "cell_type": "markdown",
      "source": [
        "Razão massa/luminosidade?"
      ],
      "metadata": {
        "id": "dU8vs3_j8_8U"
      }
    },
    {
      "cell_type": "markdown",
      "source": [
        "🐄 Um raio de luz apenas roça a superfície da Terra $M = 6 × 10^{24} kg,\n",
        "R = 6.4 × 10^{6} m$.\n",
        "\n",
        " Através de qual ângulo α o raio de luz é desviado pela lente gravitacional? (Ignore os efeitos de refração da atmosfera da Terra.) \n",
        "\n",
        "Repita seu cálculo para uma anã branca de $M = 2 × 10 ^{30} kg,\n",
        "R = 1.5 × 10^{7}m$ e para uma estrela de nêutrons com $M=3×10^{30}kg, R+1.2×10^{4}m$."
      ],
      "metadata": {
        "id": "YpQtRp9y9DL9"
      }
    },
    {
      "cell_type": "markdown",
      "source": [
        "→ Sabemos que o ângulo de deflexão seja $α=\\frac{4GM}{c^{2}R}$, então para cada caso fazemos:"
      ],
      "metadata": {
        "id": "rHbiDq1Z_qGv"
      }
    },
    {
      "cell_type": "code",
      "source": [
        "G=6.67e-11\n",
        "c=3e8"
      ],
      "metadata": {
        "id": "oEuY60G1_57C"
      },
      "execution_count": null,
      "outputs": []
    },
    {
      "cell_type": "code",
      "source": [
        "#Para a Terra temos:\n",
        "\n",
        "MT=6e24\n",
        "RT=6.4e6\n",
        "\n",
        "alphaT= (4*G*MT)/((c**2)*RT)\n",
        "print(alphaT,'rad')"
      ],
      "metadata": {
        "colab": {
          "base_uri": "https://localhost:8080/"
        },
        "id": "zjO2260AAK38",
        "outputId": "ac584779-9ce4-4def-c853-a36dd77ec0e5"
      },
      "execution_count": null,
      "outputs": [
        {
          "output_type": "stream",
          "name": "stdout",
          "text": [
            "2.7791666666666667e-09 rad\n"
          ]
        }
      ]
    },
    {
      "cell_type": "code",
      "source": [
        "#Para anã branca\n",
        "\n",
        "MWD=2e30\n",
        "RWD=1.5e7\n",
        "\n",
        "alphaWD= (4*G*MWD)/((c**2)*RWD)\n",
        "print(alphaWD,'rad')\n"
      ],
      "metadata": {
        "colab": {
          "base_uri": "https://localhost:8080/"
        },
        "id": "NW1ABugzA2_5",
        "outputId": "d87b43f7-42fc-48db-d7d3-feee7b63e610"
      },
      "execution_count": null,
      "outputs": [
        {
          "output_type": "stream",
          "name": "stdout",
          "text": [
            "0.00039525925925925926 rad\n"
          ]
        }
      ]
    },
    {
      "cell_type": "code",
      "source": [
        "#Para estrela de neutrons \n",
        "\n",
        "MNS= 3e30\n",
        "RNS=1.2e4\n",
        "\n",
        "alphaNS=(4*G*MNS)/((c**2)*RNS)\n",
        "print(alphaNS,'rad')"
      ],
      "metadata": {
        "colab": {
          "base_uri": "https://localhost:8080/"
        },
        "id": "9Gk2xAEaBaaN",
        "outputId": "4f4c10bf-abba-47bc-b08e-e03fb63693eb"
      },
      "execution_count": null,
      "outputs": [
        {
          "output_type": "stream",
          "name": "stdout",
          "text": [
            "0.7411111111111112 rad\n"
          ]
        }
      ]
    },
    {
      "cell_type": "markdown",
      "source": [
        "Vemos que se o objeto não for compacto, não possuirá grande ângulo de deflexão."
      ],
      "metadata": {
        "id": "9PXFr087C1Xi"
      }
    },
    {
      "cell_type": "markdown",
      "source": [
        "🐄 Vamos estimar a taxa de fusão de galáxias\n",
        "no aglomerado Coma para ver se é realmente significativo. O Coma\n",
        "contém N ≈ 1000 galáxias dentro de seu raio de meia massa de $r_{h} ≈\n",
        "1.5 Mpc$. \n",
        "\n",
        "a) Qual é a densidade numérica média de galáxias dentro do\n",
        "raio de meia massa? \n",
        "\n",
        "b) Suponha que a seção transversal típica de uma galáxia seja\n",
        "$Σ ≈ 10^{−3} Mpc^{2}$ . Quão longe uma galáxia no aglomerado Coma viajará, em\n",
        "média, antes de colidir com outra galáxia?\n",
        "\n",
        "c) A dispersão da velocidade\n",
        "do aglomerado Coma é $σ ≈ 880 kms^{ −3}$ . Qual é o tempo médio\n",
        "entre colisões para uma galáxia no aglomerado Coma?\n",
        "\n",
        "d) Este tempo é maior\n",
        "maior ou menor que o tempo do Hubble?"
      ],
      "metadata": {
        "id": "BPTnGyexEMPj"
      }
    },
    {
      "cell_type": "markdown",
      "source": [
        "→ Sabendo que as galáxias em aglomerados ricos são pobres em\n",
        "velas padrão, porque elas tendem a ficar mais brilhantes com o tempo, uma vez que eventualmente elas se fundem com outras galáxia. \n",
        "\n",
        "Inicialmente a densidade numérica pode ser encontrada fazendo:\n",
        "\n",
        "$n=\\frac{N}{V}$ e conhecendo o volume sendo $ V = \\frac{4πR^{3}}{3} $, daí:"
      ],
      "metadata": {
        "id": "4J-0G9WOEcRa"
      }
    },
    {
      "cell_type": "code",
      "source": [
        "rh=1.5\n",
        "pi=3.14159265359\n",
        "N=1000"
      ],
      "metadata": {
        "id": "VSVMGeYnB68-"
      },
      "execution_count": null,
      "outputs": []
    },
    {
      "cell_type": "code",
      "source": [
        "V=(4*pi*(rh**3))/3\n",
        "print(V,'Mpc³')"
      ],
      "metadata": {
        "colab": {
          "base_uri": "https://localhost:8080/"
        },
        "id": "dKDOEqm-Kk4B",
        "outputId": "c9e82629-8594-4a67-e065-97ceb64c130d"
      },
      "execution_count": null,
      "outputs": [
        {
          "output_type": "stream",
          "name": "stdout",
          "text": [
            "14.137166941155 Mpc³\n"
          ]
        }
      ]
    },
    {
      "cell_type": "code",
      "source": [
        "n= N/V\n",
        "print(n,'Mpc⁻³')"
      ],
      "metadata": {
        "colab": {
          "base_uri": "https://localhost:8080/"
        },
        "id": "70_HE3EQKq8g",
        "outputId": "6297b020-cae8-4e4f-fa67-78c905b13e96"
      },
      "execution_count": null,
      "outputs": [
        {
          "output_type": "stream",
          "name": "stdout",
          "text": [
            "70.73553026305994 Mpc⁻³\n"
          ]
        }
      ]
    },
    {
      "cell_type": "markdown",
      "source": [
        "O livre caminho médio das galáxias no aglomerado COMA é a razão entre o volume e a seção transversal típica de uma galáxia $λ=\\frac{V}{Σ}$.\n",
        "\n",
        "Mas utilizamos a densidade numérica $n=\\frac{N}{V}$ de uma galáxia para estimar o livre caminho médio, pois, para N=1 temos $ n =\\frac{1}{Σλ}$ então finalmente $ λ =\\frac{1}{Σn}$"
      ],
      "metadata": {
        "id": "Jba0EW35Le-m"
      }
    },
    {
      "cell_type": "code",
      "source": [
        "Sigma = 10**(-3) #Mpc²\n",
        "\n",
        "Lambda = 1/(Sigma*n)\n",
        "print(Lambda,'Mpc')"
      ],
      "metadata": {
        "colab": {
          "base_uri": "https://localhost:8080/"
        },
        "id": "-aD5XoinKwGD",
        "outputId": "272200a5-abf7-40b5-fe8c-e298f85e4644"
      },
      "execution_count": null,
      "outputs": [
        {
          "output_type": "stream",
          "name": "stdout",
          "text": [
            "14.137166941155 Mpc\n"
          ]
        }
      ]
    },
    {
      "cell_type": "markdown",
      "source": [
        "O tempo médio de colisão em uma certa direção envolve o livre caminho médio e a dispersão de velocidade das galáxias, de maneira que ele seja a razão entre essas duas variáveis. Então vemos $T=\\frac{λ}{σ}$.\n",
        "\n",
        "Mas, antes de aplicarmos os dados conhecidos faz-se necessário colocar essas variáveis na mesma unidade de medida para posteriormente deixar somente em termos de Gyr. Por isso fazemos: \n",
        "\n",
        "$T=\\frac{λ}{σ}\\frac{10^{6}pc}{1Mpc}\\frac{3.086×10^{16}m}{1pc}\\frac{1km}{10^{3}m}\\frac{1yr}{3.156×10^{7}s}\\frac{1Gyr}{10^{9}yr}$"
      ],
      "metadata": {
        "id": "sN-jj3suPUZS"
      }
    },
    {
      "cell_type": "code",
      "source": [
        "sigmav=880\n",
        "\n",
        "pcm= 3.086*(np.power(10,16))\n",
        "sup=np.power(10,6)*pcm\n",
        "sup\n"
      ],
      "metadata": {
        "colab": {
          "base_uri": "https://localhost:8080/"
        },
        "id": "67W6HsouMtLh",
        "outputId": "3ac11bdf-dcee-4b67-9e39-5f33a521784d"
      },
      "execution_count": null,
      "outputs": [
        {
          "output_type": "execute_result",
          "data": {
            "text/plain": [
              "3.086e+22"
            ]
          },
          "metadata": {},
          "execution_count": 89
        }
      ]
    },
    {
      "cell_type": "code",
      "source": [
        "yrs=3.156*(np.power(10,7))\n",
        "inf=np.power(10,12)*yrs\n",
        "inf"
      ],
      "metadata": {
        "colab": {
          "base_uri": "https://localhost:8080/"
        },
        "id": "FqzzDmzPVSUF",
        "outputId": "3989413e-f360-4aea-dcfd-d12e39bcaa03"
      },
      "execution_count": null,
      "outputs": [
        {
          "output_type": "execute_result",
          "data": {
            "text/plain": [
              "3.156e+19"
            ]
          },
          "metadata": {},
          "execution_count": 90
        }
      ]
    },
    {
      "cell_type": "code",
      "source": [
        "T= (Lambda*sup)/(sigmav*inf)\n",
        "print(T,'Gyr')"
      ],
      "metadata": {
        "colab": {
          "base_uri": "https://localhost:8080/"
        },
        "id": "mfvlgxS4WgzP",
        "outputId": "f82ad80f-220f-4ed5-f2ed-a95f80eb95c2"
      },
      "execution_count": null,
      "outputs": [
        {
          "output_type": "stream",
          "name": "stdout",
          "text": [
            "15.708641973587227 Gyr\n"
          ]
        }
      ]
    },
    {
      "cell_type": "markdown",
      "source": [
        "Encontramos, finalmente o tempo de colisão aproximado em 15.7 Gyrs, e concluímoms que em média não há colisão pois este tempo é maior do que o tempo de Hubble."
      ],
      "metadata": {
        "id": "m9EhpxMjX_A3"
      }
    },
    {
      "cell_type": "code",
      "source": [
        ""
      ],
      "metadata": {
        "id": "MXJUWvilWoRv"
      },
      "execution_count": null,
      "outputs": []
    }
  ]
}