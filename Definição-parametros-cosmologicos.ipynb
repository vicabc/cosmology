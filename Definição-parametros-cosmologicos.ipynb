{
  "nbformat": 4,
  "nbformat_minor": 0,
  "metadata": {
    "colab": {
      "name": "Cosmologia.ipynb",
      "provenance": [],
      "collapsed_sections": [],
      "include_colab_link": true
    },
    "kernelspec": {
      "name": "python3",
      "display_name": "Python 3"
    },
    "language_info": {
      "name": "python"
    }
  },
  "cells": [
    {
      "cell_type": "markdown",
      "metadata": {
        "id": "view-in-github",
        "colab_type": "text"
      },
      "source": [
        "<a href=\"https://colab.research.google.com/github/vicabc/cosmology/blob/main/Defini%C3%A7%C3%A3o-parametros-cosmologicos.ipynb\" target=\"_parent\"><img src=\"https://colab.research.google.com/assets/colab-badge.svg\" alt=\"Open In Colab\"/></a>"
      ]
    },
    {
      "cell_type": "markdown",
      "source": [
        "#DADOS"
      ],
      "metadata": {
        "id": "XlvYyRiEAO1h"
      }
    },
    {
      "cell_type": "code",
      "source": [
        "#Bibliotecas\n",
        "\n",
        "from google.colab import files\n",
        "import io\n",
        "import pandas as pd\n",
        "import seaborn as sns\n",
        "import csv\n",
        "from scipy.integrate import quad\n",
        "import numpy as np\n",
        "import matplotlib.pyplot as plt\n",
        "from matplotlib.patches import Ellipse\n",
        "from scipy import integrate"
      ],
      "metadata": {
        "id": "_XsrgdTDhTJQ"
      },
      "execution_count": 2,
      "outputs": []
    },
    {
      "cell_type": "code",
      "source": [
        "#Upload do arquivo\n",
        "from google.colab import files\n",
        "uploaded = files.upload()"
      ],
      "metadata": {
        "id": "ksWmk5xbjiZY",
        "colab": {
          "resources": {
            "http://localhost:8080/nbextensions/google.colab/files.js": {
              "data": "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",
              "ok": true,
              "headers": [
                [
                  "content-type",
                  "application/javascript"
                ]
              ],
              "status": 200,
              "status_text": ""
            }
          },
          "base_uri": "https://localhost:8080/",
          "height": 74
        },
        "outputId": "97797573-ee15-4625-dc31-d598425c907c"
      },
      "execution_count": 3,
      "outputs": [
        {
          "output_type": "display_data",
          "data": {
            "text/plain": [
              "<IPython.core.display.HTML object>"
            ],
            "text/html": [
              "\n",
              "     <input type=\"file\" id=\"files-3bf176a6-ffa1-4995-b202-3bbeafb333cd\" name=\"files[]\" multiple disabled\n",
              "        style=\"border:none\" />\n",
              "     <output id=\"result-3bf176a6-ffa1-4995-b202-3bbeafb333cd\">\n",
              "      Upload widget is only available when the cell has been executed in the\n",
              "      current browser session. Please rerun this cell to enable.\n",
              "      </output>\n",
              "      <script src=\"/nbextensions/google.colab/files.js\"></script> "
            ]
          },
          "metadata": {}
        },
        {
          "output_type": "stream",
          "name": "stdout",
          "text": [
            "Saving DL.csv to DL.csv\n"
          ]
        }
      ]
    },
    {
      "cell_type": "code",
      "source": [
        "df = pd.read_csv('DL.csv', header=None)                #Leitura do arquivo #rapha: (mudei porque tava dando erro quando lia tudo junto.)\n",
        "df.columns = ['Redshift', 'DL [Mpc]', 'Sigma_DL [Mpc]']    #Nomeia as colunas"
      ],
      "metadata": {
        "id": "gSDOFQpLNdl1"
      },
      "execution_count": 5,
      "outputs": []
    },
    {
      "cell_type": "markdown",
      "source": [
        "O que se fez aqui foi transformar o arquivo enviado de .txt para .csv manualmente (via excel). Mas mesmo assim o arquivo ainda não estava separando por vírgulas as colunas, aí segue o código abaixo para que as colunas não encontrem nenhum tipo de erro para na hora que fomos plotar os dados."
      ],
      "metadata": {
        "id": "pcLl24FQS9B_"
      }
    },
    {
      "cell_type": "code",
      "source": [
        "df"
      ],
      "metadata": {
        "colab": {
          "base_uri": "https://localhost:8080/",
          "height": 423
        },
        "id": "TP7bqDk_SglS",
        "outputId": "87fc91da-60c3-4160-962c-e67d6883fb40"
      },
      "execution_count": 6,
      "outputs": [
        {
          "output_type": "execute_result",
          "data": {
            "text/plain": [
              "     Redshift    DL [Mpc]  Sigma_DL [Mpc]\n",
              "0      1.4986  10851.1173        532.0162\n",
              "1      1.6738  11736.7910        606.7476\n",
              "2      1.0550   7167.7541        350.3223\n",
              "3      1.1030   8226.9688        369.3736\n",
              "4      1.5406  10396.2127        549.7847\n",
              "..        ...         ...             ...\n",
              "175    1.8108  12254.0022        666.2087\n",
              "176    1.5116  11219.9822        537.5037\n",
              "177    0.6935   4566.3797        213.1093\n",
              "178    0.1845    897.7660         47.3017\n",
              "179    1.4084   9689.4388        494.1315\n",
              "\n",
              "[180 rows x 3 columns]"
            ],
            "text/html": [
              "\n",
              "  <div id=\"df-89e8fa88-f243-48ea-a25a-17315c681e62\">\n",
              "    <div class=\"colab-df-container\">\n",
              "      <div>\n",
              "<style scoped>\n",
              "    .dataframe tbody tr th:only-of-type {\n",
              "        vertical-align: middle;\n",
              "    }\n",
              "\n",
              "    .dataframe tbody tr th {\n",
              "        vertical-align: top;\n",
              "    }\n",
              "\n",
              "    .dataframe thead th {\n",
              "        text-align: right;\n",
              "    }\n",
              "</style>\n",
              "<table border=\"1\" class=\"dataframe\">\n",
              "  <thead>\n",
              "    <tr style=\"text-align: right;\">\n",
              "      <th></th>\n",
              "      <th>Redshift</th>\n",
              "      <th>DL [Mpc]</th>\n",
              "      <th>Sigma_DL [Mpc]</th>\n",
              "    </tr>\n",
              "  </thead>\n",
              "  <tbody>\n",
              "    <tr>\n",
              "      <th>0</th>\n",
              "      <td>1.4986</td>\n",
              "      <td>10851.1173</td>\n",
              "      <td>532.0162</td>\n",
              "    </tr>\n",
              "    <tr>\n",
              "      <th>1</th>\n",
              "      <td>1.6738</td>\n",
              "      <td>11736.7910</td>\n",
              "      <td>606.7476</td>\n",
              "    </tr>\n",
              "    <tr>\n",
              "      <th>2</th>\n",
              "      <td>1.0550</td>\n",
              "      <td>7167.7541</td>\n",
              "      <td>350.3223</td>\n",
              "    </tr>\n",
              "    <tr>\n",
              "      <th>3</th>\n",
              "      <td>1.1030</td>\n",
              "      <td>8226.9688</td>\n",
              "      <td>369.3736</td>\n",
              "    </tr>\n",
              "    <tr>\n",
              "      <th>4</th>\n",
              "      <td>1.5406</td>\n",
              "      <td>10396.2127</td>\n",
              "      <td>549.7847</td>\n",
              "    </tr>\n",
              "    <tr>\n",
              "      <th>...</th>\n",
              "      <td>...</td>\n",
              "      <td>...</td>\n",
              "      <td>...</td>\n",
              "    </tr>\n",
              "    <tr>\n",
              "      <th>175</th>\n",
              "      <td>1.8108</td>\n",
              "      <td>12254.0022</td>\n",
              "      <td>666.2087</td>\n",
              "    </tr>\n",
              "    <tr>\n",
              "      <th>176</th>\n",
              "      <td>1.5116</td>\n",
              "      <td>11219.9822</td>\n",
              "      <td>537.5037</td>\n",
              "    </tr>\n",
              "    <tr>\n",
              "      <th>177</th>\n",
              "      <td>0.6935</td>\n",
              "      <td>4566.3797</td>\n",
              "      <td>213.1093</td>\n",
              "    </tr>\n",
              "    <tr>\n",
              "      <th>178</th>\n",
              "      <td>0.1845</td>\n",
              "      <td>897.7660</td>\n",
              "      <td>47.3017</td>\n",
              "    </tr>\n",
              "    <tr>\n",
              "      <th>179</th>\n",
              "      <td>1.4084</td>\n",
              "      <td>9689.4388</td>\n",
              "      <td>494.1315</td>\n",
              "    </tr>\n",
              "  </tbody>\n",
              "</table>\n",
              "<p>180 rows × 3 columns</p>\n",
              "</div>\n",
              "      <button class=\"colab-df-convert\" onclick=\"convertToInteractive('df-89e8fa88-f243-48ea-a25a-17315c681e62')\"\n",
              "              title=\"Convert this dataframe to an interactive table.\"\n",
              "              style=\"display:none;\">\n",
              "        \n",
              "  <svg xmlns=\"http://www.w3.org/2000/svg\" height=\"24px\"viewBox=\"0 0 24 24\"\n",
              "       width=\"24px\">\n",
              "    <path d=\"M0 0h24v24H0V0z\" fill=\"none\"/>\n",
              "    <path d=\"M18.56 5.44l.94 2.06.94-2.06 2.06-.94-2.06-.94-.94-2.06-.94 2.06-2.06.94zm-11 1L8.5 8.5l.94-2.06 2.06-.94-2.06-.94L8.5 2.5l-.94 2.06-2.06.94zm10 10l.94 2.06.94-2.06 2.06-.94-2.06-.94-.94-2.06-.94 2.06-2.06.94z\"/><path d=\"M17.41 7.96l-1.37-1.37c-.4-.4-.92-.59-1.43-.59-.52 0-1.04.2-1.43.59L10.3 9.45l-7.72 7.72c-.78.78-.78 2.05 0 2.83L4 21.41c.39.39.9.59 1.41.59.51 0 1.02-.2 1.41-.59l7.78-7.78 2.81-2.81c.8-.78.8-2.07 0-2.86zM5.41 20L4 18.59l7.72-7.72 1.47 1.35L5.41 20z\"/>\n",
              "  </svg>\n",
              "      </button>\n",
              "      \n",
              "  <style>\n",
              "    .colab-df-container {\n",
              "      display:flex;\n",
              "      flex-wrap:wrap;\n",
              "      gap: 12px;\n",
              "    }\n",
              "\n",
              "    .colab-df-convert {\n",
              "      background-color: #E8F0FE;\n",
              "      border: none;\n",
              "      border-radius: 50%;\n",
              "      cursor: pointer;\n",
              "      display: none;\n",
              "      fill: #1967D2;\n",
              "      height: 32px;\n",
              "      padding: 0 0 0 0;\n",
              "      width: 32px;\n",
              "    }\n",
              "\n",
              "    .colab-df-convert:hover {\n",
              "      background-color: #E2EBFA;\n",
              "      box-shadow: 0px 1px 2px rgba(60, 64, 67, 0.3), 0px 1px 3px 1px rgba(60, 64, 67, 0.15);\n",
              "      fill: #174EA6;\n",
              "    }\n",
              "\n",
              "    [theme=dark] .colab-df-convert {\n",
              "      background-color: #3B4455;\n",
              "      fill: #D2E3FC;\n",
              "    }\n",
              "\n",
              "    [theme=dark] .colab-df-convert:hover {\n",
              "      background-color: #434B5C;\n",
              "      box-shadow: 0px 1px 3px 1px rgba(0, 0, 0, 0.15);\n",
              "      filter: drop-shadow(0px 1px 2px rgba(0, 0, 0, 0.3));\n",
              "      fill: #FFFFFF;\n",
              "    }\n",
              "  </style>\n",
              "\n",
              "      <script>\n",
              "        const buttonEl =\n",
              "          document.querySelector('#df-89e8fa88-f243-48ea-a25a-17315c681e62 button.colab-df-convert');\n",
              "        buttonEl.style.display =\n",
              "          google.colab.kernel.accessAllowed ? 'block' : 'none';\n",
              "\n",
              "        async function convertToInteractive(key) {\n",
              "          const element = document.querySelector('#df-89e8fa88-f243-48ea-a25a-17315c681e62');\n",
              "          const dataTable =\n",
              "            await google.colab.kernel.invokeFunction('convertToInteractive',\n",
              "                                                     [key], {});\n",
              "          if (!dataTable) return;\n",
              "\n",
              "          const docLinkHtml = 'Like what you see? Visit the ' +\n",
              "            '<a target=\"_blank\" href=https://colab.research.google.com/notebooks/data_table.ipynb>data table notebook</a>'\n",
              "            + ' to learn more about interactive tables.';\n",
              "          element.innerHTML = '';\n",
              "          dataTable['output_type'] = 'display_data';\n",
              "          await google.colab.output.renderOutput(dataTable, element);\n",
              "          const docLink = document.createElement('div');\n",
              "          docLink.innerHTML = docLinkHtml;\n",
              "          element.appendChild(docLink);\n",
              "        }\n",
              "      </script>\n",
              "    </div>\n",
              "  </div>\n",
              "  "
            ]
          },
          "metadata": {},
          "execution_count": 6
        }
      ]
    },
    {
      "cell_type": "code",
      "source": [
        "#Salvamos as colunas em variáveis sugestivas\n",
        "\n",
        "red = df['Redshift']\n",
        "d = df['DL [Mpc]']\n",
        "sigma_dl = df['Sigma_DL [Mpc]']"
      ],
      "metadata": {
        "id": "KgV8zDCt2Cuo"
      },
      "execution_count": 8,
      "outputs": []
    },
    {
      "cell_type": "markdown",
      "source": [
        "#Exercício 1"
      ],
      "metadata": {
        "id": "BL3gmt0sATQO"
      }
    },
    {
      "cell_type": "markdown",
      "source": [
        "Com o conjunto de dados fornecido, explorar o valor da função chi quadrado para obter os valores dos parâmetros H0 e Omega_m que melhor descrevem os dados. Para esta análise, assuma um modelo LCDM plano e desconsidere a componente de radiação. Preste atenção às quantidades que se encontram nos dados."
      ],
      "metadata": {
        "id": "rzTt7CTqAYA8"
      }
    },
    {
      "cell_type": "markdown",
      "source": [
        "Temos que $\\chi^2 = \\sum_i^n (\\frac{DL_{obs} - DL_{teo}}{\\sigma_{DL}})^2$ "
      ],
      "metadata": {
        "id": "ynW_UoC9xwXt"
      }
    },
    {
      "cell_type": "markdown",
      "source": [
        "Onde $D_L = (1+z_{i})\\int_0^{z_i}\\frac{dz}{H(z)}$ "
      ],
      "metadata": {
        "id": "dAWeBYMBx-aO"
      }
    },
    {
      "cell_type": "markdown",
      "source": [
        "E $H(z) = H_0 \\sqrt{\\Omega_{m,0} (1+z)^3 + \\Omega_\\Lambda}$ e $\\Omega_\\Lambda = 1 - \\Omega_{m,0}$"
      ],
      "metadata": {
        "id": "4nKwLIxdyBqR"
      }
    },
    {
      "cell_type": "markdown",
      "source": [
        "Portanto, $H(z) = H_0 \\sqrt{\\Omega_{m,0}(1+z)^3 + 1 - \\Omega_{m,0}}$"
      ],
      "metadata": {
        "id": "qEHRWhyeyGSN"
      }
    },
    {
      "cell_type": "markdown",
      "source": [
        "Abaixo, criamos um código que, a partir de cada valor de redshift, calcula um valor de $DL_{teo}$ para cada valor de $H_0$ (que varia entre 50 e 100 de 1 em 1 passo) e $\\Omega_{m,0}$ (que varia entre 0 e 0.7 de 0.005 passos) "
      ],
      "metadata": {
        "id": "nETY7UxAyLV5"
      }
    },
    {
      "cell_type": "code",
      "source": [
        "rows = []\n",
        "for o in range(0,705,5):           #loop de ohmega_m -> de 0 a 0.7 variando de 0.005\n",
        "  for hz in range(50, 101, 1):     #loop de H_0 -> variando de 50 a 100 em passos de 1 \n",
        "    chi=0.0\n",
        "    chiquadrado=0.0\n",
        "    for z, dl, sigma in zip(red, d, sigma_dl):\n",
        "      omegam = 0.001*o\n",
        "      funcao=lambda x: 300000*((omegam*((1+x)**3)+1-omegam)**(-1/2)) #definição da função para integrar\n",
        "      integral, err = integrate.quad(funcao, 0, z)                   #cálculo da integral (O , err separa o erro da integral.)\n",
        "      dlt = ((1+z)*integral)/hz\n",
        "      chi= (((dl-dlt)/(sigma))**2)                                   #cálculo de todos os chis de cada cada DL teórico\n",
        "      chiquadrado=chiquadrado+chi\n",
        "    rows.append([chiquadrado, omegam, hz])                           #salvando em um dataframe\n",
        "    dframe = pd.DataFrame(rows, columns=[\"Chi quadrado\", \"Omega_m\", \"H_0\"])\n"
      ],
      "metadata": {
        "id": "Id2-PVZE1BiI"
      },
      "execution_count": 9,
      "outputs": []
    },
    {
      "cell_type": "code",
      "source": [
        "dframe"
      ],
      "metadata": {
        "id": "-xQS0WJZ1Dfw",
        "colab": {
          "base_uri": "https://localhost:8080/",
          "height": 423
        },
        "outputId": "08569609-0e18-43f1-8879-7e8451329fad"
      },
      "execution_count": 10,
      "outputs": [
        {
          "output_type": "execute_result",
          "data": {
            "text/plain": [
              "      Chi quadrado  Omega_m  H_0\n",
              "0     56765.168366      0.0   50\n",
              "1     52338.343752      0.0   51\n",
              "2     48259.265054      0.0   52\n",
              "3     44498.391861      0.0   53\n",
              "4     41029.088544      0.0   54\n",
              "...            ...      ...  ...\n",
              "7186  10302.097626      0.7   96\n",
              "7187  10644.450003      0.7   97\n",
              "7188  10985.530807      0.7   98\n",
              "7189  11325.207129      0.7   99\n",
              "7190  11663.358171      0.7  100\n",
              "\n",
              "[7191 rows x 3 columns]"
            ],
            "text/html": [
              "\n",
              "  <div id=\"df-58c08c21-e659-4d24-9f83-c3b187ce60d8\">\n",
              "    <div class=\"colab-df-container\">\n",
              "      <div>\n",
              "<style scoped>\n",
              "    .dataframe tbody tr th:only-of-type {\n",
              "        vertical-align: middle;\n",
              "    }\n",
              "\n",
              "    .dataframe tbody tr th {\n",
              "        vertical-align: top;\n",
              "    }\n",
              "\n",
              "    .dataframe thead th {\n",
              "        text-align: right;\n",
              "    }\n",
              "</style>\n",
              "<table border=\"1\" class=\"dataframe\">\n",
              "  <thead>\n",
              "    <tr style=\"text-align: right;\">\n",
              "      <th></th>\n",
              "      <th>Chi quadrado</th>\n",
              "      <th>Omega_m</th>\n",
              "      <th>H_0</th>\n",
              "    </tr>\n",
              "  </thead>\n",
              "  <tbody>\n",
              "    <tr>\n",
              "      <th>0</th>\n",
              "      <td>56765.168366</td>\n",
              "      <td>0.0</td>\n",
              "      <td>50</td>\n",
              "    </tr>\n",
              "    <tr>\n",
              "      <th>1</th>\n",
              "      <td>52338.343752</td>\n",
              "      <td>0.0</td>\n",
              "      <td>51</td>\n",
              "    </tr>\n",
              "    <tr>\n",
              "      <th>2</th>\n",
              "      <td>48259.265054</td>\n",
              "      <td>0.0</td>\n",
              "      <td>52</td>\n",
              "    </tr>\n",
              "    <tr>\n",
              "      <th>3</th>\n",
              "      <td>44498.391861</td>\n",
              "      <td>0.0</td>\n",
              "      <td>53</td>\n",
              "    </tr>\n",
              "    <tr>\n",
              "      <th>4</th>\n",
              "      <td>41029.088544</td>\n",
              "      <td>0.0</td>\n",
              "      <td>54</td>\n",
              "    </tr>\n",
              "    <tr>\n",
              "      <th>...</th>\n",
              "      <td>...</td>\n",
              "      <td>...</td>\n",
              "      <td>...</td>\n",
              "    </tr>\n",
              "    <tr>\n",
              "      <th>7186</th>\n",
              "      <td>10302.097626</td>\n",
              "      <td>0.7</td>\n",
              "      <td>96</td>\n",
              "    </tr>\n",
              "    <tr>\n",
              "      <th>7187</th>\n",
              "      <td>10644.450003</td>\n",
              "      <td>0.7</td>\n",
              "      <td>97</td>\n",
              "    </tr>\n",
              "    <tr>\n",
              "      <th>7188</th>\n",
              "      <td>10985.530807</td>\n",
              "      <td>0.7</td>\n",
              "      <td>98</td>\n",
              "    </tr>\n",
              "    <tr>\n",
              "      <th>7189</th>\n",
              "      <td>11325.207129</td>\n",
              "      <td>0.7</td>\n",
              "      <td>99</td>\n",
              "    </tr>\n",
              "    <tr>\n",
              "      <th>7190</th>\n",
              "      <td>11663.358171</td>\n",
              "      <td>0.7</td>\n",
              "      <td>100</td>\n",
              "    </tr>\n",
              "  </tbody>\n",
              "</table>\n",
              "<p>7191 rows × 3 columns</p>\n",
              "</div>\n",
              "      <button class=\"colab-df-convert\" onclick=\"convertToInteractive('df-58c08c21-e659-4d24-9f83-c3b187ce60d8')\"\n",
              "              title=\"Convert this dataframe to an interactive table.\"\n",
              "              style=\"display:none;\">\n",
              "        \n",
              "  <svg xmlns=\"http://www.w3.org/2000/svg\" height=\"24px\"viewBox=\"0 0 24 24\"\n",
              "       width=\"24px\">\n",
              "    <path d=\"M0 0h24v24H0V0z\" fill=\"none\"/>\n",
              "    <path d=\"M18.56 5.44l.94 2.06.94-2.06 2.06-.94-2.06-.94-.94-2.06-.94 2.06-2.06.94zm-11 1L8.5 8.5l.94-2.06 2.06-.94-2.06-.94L8.5 2.5l-.94 2.06-2.06.94zm10 10l.94 2.06.94-2.06 2.06-.94-2.06-.94-.94-2.06-.94 2.06-2.06.94z\"/><path d=\"M17.41 7.96l-1.37-1.37c-.4-.4-.92-.59-1.43-.59-.52 0-1.04.2-1.43.59L10.3 9.45l-7.72 7.72c-.78.78-.78 2.05 0 2.83L4 21.41c.39.39.9.59 1.41.59.51 0 1.02-.2 1.41-.59l7.78-7.78 2.81-2.81c.8-.78.8-2.07 0-2.86zM5.41 20L4 18.59l7.72-7.72 1.47 1.35L5.41 20z\"/>\n",
              "  </svg>\n",
              "      </button>\n",
              "      \n",
              "  <style>\n",
              "    .colab-df-container {\n",
              "      display:flex;\n",
              "      flex-wrap:wrap;\n",
              "      gap: 12px;\n",
              "    }\n",
              "\n",
              "    .colab-df-convert {\n",
              "      background-color: #E8F0FE;\n",
              "      border: none;\n",
              "      border-radius: 50%;\n",
              "      cursor: pointer;\n",
              "      display: none;\n",
              "      fill: #1967D2;\n",
              "      height: 32px;\n",
              "      padding: 0 0 0 0;\n",
              "      width: 32px;\n",
              "    }\n",
              "\n",
              "    .colab-df-convert:hover {\n",
              "      background-color: #E2EBFA;\n",
              "      box-shadow: 0px 1px 2px rgba(60, 64, 67, 0.3), 0px 1px 3px 1px rgba(60, 64, 67, 0.15);\n",
              "      fill: #174EA6;\n",
              "    }\n",
              "\n",
              "    [theme=dark] .colab-df-convert {\n",
              "      background-color: #3B4455;\n",
              "      fill: #D2E3FC;\n",
              "    }\n",
              "\n",
              "    [theme=dark] .colab-df-convert:hover {\n",
              "      background-color: #434B5C;\n",
              "      box-shadow: 0px 1px 3px 1px rgba(0, 0, 0, 0.15);\n",
              "      filter: drop-shadow(0px 1px 2px rgba(0, 0, 0, 0.3));\n",
              "      fill: #FFFFFF;\n",
              "    }\n",
              "  </style>\n",
              "\n",
              "      <script>\n",
              "        const buttonEl =\n",
              "          document.querySelector('#df-58c08c21-e659-4d24-9f83-c3b187ce60d8 button.colab-df-convert');\n",
              "        buttonEl.style.display =\n",
              "          google.colab.kernel.accessAllowed ? 'block' : 'none';\n",
              "\n",
              "        async function convertToInteractive(key) {\n",
              "          const element = document.querySelector('#df-58c08c21-e659-4d24-9f83-c3b187ce60d8');\n",
              "          const dataTable =\n",
              "            await google.colab.kernel.invokeFunction('convertToInteractive',\n",
              "                                                     [key], {});\n",
              "          if (!dataTable) return;\n",
              "\n",
              "          const docLinkHtml = 'Like what you see? Visit the ' +\n",
              "            '<a target=\"_blank\" href=https://colab.research.google.com/notebooks/data_table.ipynb>data table notebook</a>'\n",
              "            + ' to learn more about interactive tables.';\n",
              "          element.innerHTML = '';\n",
              "          dataTable['output_type'] = 'display_data';\n",
              "          await google.colab.output.renderOutput(dataTable, element);\n",
              "          const docLink = document.createElement('div');\n",
              "          docLink.innerHTML = docLinkHtml;\n",
              "          element.appendChild(docLink);\n",
              "        }\n",
              "      </script>\n",
              "    </div>\n",
              "  </div>\n",
              "  "
            ]
          },
          "metadata": {},
          "execution_count": 10
        }
      ]
    },
    {
      "cell_type": "code",
      "source": [
        "#Chi quadrado mínimo:\n",
        "min = dframe['Chi quadrado'].idxmin()\n",
        "dframe.iloc[min]"
      ],
      "metadata": {
        "id": "7b75kd3e2QW5",
        "colab": {
          "base_uri": "https://localhost:8080/"
        },
        "outputId": "138738f7-58b0-4827-fc54-768ce35e0a15"
      },
      "execution_count": 11,
      "outputs": [
        {
          "output_type": "execute_result",
          "data": {
            "text/plain": [
              "Chi quadrado    378.024754\n",
              "Omega_m           0.405000\n",
              "H_0              67.000000\n",
              "Name: 4148, dtype: float64"
            ]
          },
          "metadata": {},
          "execution_count": 11
        }
      ]
    },
    {
      "cell_type": "markdown",
      "source": [
        "Concluimos que o modelo que melhor descreve as observações possui parâmetros $H_0=67 km/s/Mpc$ e $\\Omega_{m,0}=0.405$"
      ],
      "metadata": {
        "id": "G2sQ28ZigQ6c"
      }
    },
    {
      "cell_type": "markdown",
      "source": [
        "#Exercício 2"
      ],
      "metadata": {
        "id": "DslIHnGaAhqe"
      }
    },
    {
      "cell_type": "markdown",
      "source": [
        "Faça um gráfico de dispersão dos dados (incluindo o erro) e adicione uma linha que represente o modelo de melhor ajuste."
      ],
      "metadata": {
        "id": "DIZvhS7GAkwT"
      }
    },
    {
      "cell_type": "markdown",
      "source": [
        "Primeiro vamos calcular a função $D_L(z)$ cujos parâmetros são $H_0=67 km/s/Mpc$ e $\\Omega_{m,0}=0.405$, ou seja $D_L = (1+z_{i})\\int_0^{z_i}\\frac{dz}{67\\sqrt{0.405*(1+z)^3 + 0.595}}$ "
      ],
      "metadata": {
        "id": "Wuu5Mi_asJo8"
      }
    },
    {
      "cell_type": "code",
      "source": [
        "rows=[]\n",
        "for z, dl in zip(red, d):\n",
        "  funcao1=lambda y: 300000/(0.405*((1+y)**3)+(1-0.405))**(1/2)\n",
        "  integral1, err = integrate.quad(funcao1, 0, z)\n",
        "  dl1 = ((1+z)*integral1)/67\n",
        "  rows.append([dl1,z]) \n",
        "  dframe1 = pd.DataFrame(rows, columns=[\"dl\", \"z\"])"
      ],
      "metadata": {
        "id": "4CFXtn5ssFs2"
      },
      "execution_count": 12,
      "outputs": []
    },
    {
      "cell_type": "code",
      "source": [
        "data = df.plot(x='Redshift', y=\"DL [Mpc]\", yerr='Sigma_DL [Mpc]',kind=\"scatter\", color='hotpink', figsize=(10, 8), title='Dispersão de dados')\n",
        "model = sns.lineplot(data=dframe1,x='z',y='dl' ,color='black', legend=True)\n",
        "plt.legend(labels=['Ajuste para $\\Omega{m,0}$ e $H_0$', 'Dados fornecidos'])"
      ],
      "metadata": {
        "colab": {
          "base_uri": "https://localhost:8080/",
          "height": 531
        },
        "id": "G87Wt9cRU7Pg",
        "outputId": "c537dda9-8698-4136-d657-f5d9a7fa3201"
      },
      "execution_count": 13,
      "outputs": [
        {
          "output_type": "execute_result",
          "data": {
            "text/plain": [
              "<matplotlib.legend.Legend at 0x7f552b931590>"
            ]
          },
          "metadata": {},
          "execution_count": 13
        },
        {
          "output_type": "display_data",
          "data": {
            "text/plain": [
              "<Figure size 720x576 with 1 Axes>"
            ],
            "image/png": "[encoded data removed]"
          },
          "metadata": {
            "needs_background": "light"
          }
        }
      ]
    },
    {
      "cell_type": "markdown",
      "source": [
        "Os pontos em rosa correspondem os dados observacionáis de distância de luminosidade x redshift. A linha preta representa o ajuste que contém os parâmetros $H_0=67 km/s/Mpc$ e $\\Omega_{m,0}=0.405$. Podemos ver que, de fato, o modelo cosmológico encontrado corresponde aos dados fornecidos."
      ],
      "metadata": {
        "id": "pUJYjVgi3rK1"
      }
    },
    {
      "cell_type": "markdown",
      "source": [
        "#Exercício 3"
      ],
      "metadata": {
        "id": "28uN-hcUAqqn"
      }
    },
    {
      "cell_type": "markdown",
      "source": [
        "Faça um grafico do plano $H_0$-$\\Omega_m$ com os valores de $\\chi^2$ que representam o 68% de confiança e com outra cor os pontos que representam o 95% de confiança (probabilidade). Para isto utilize os valores de $\\chi^2$ limites dados em aula."
      ],
      "metadata": {
        "id": "LyGurifNAspA"
      }
    },
    {
      "cell_type": "code",
      "source": [
        "dh0=dframe['H_0']\n",
        "domm=dframe['Omega_m']\n",
        "dchisq=dframe['Chi quadrado']\n",
        "\n",
        "sigma1=[]\n",
        "sigma2=[]\n",
        "\n",
        "e68=2.3 #Margem de erro de 68%\n",
        "e95=6.17 #Margem de erro de 95%\n",
        "\n",
        "\n",
        "min = dframe['Chi quadrado'].min()\n",
        "range68 = min + e68\n",
        "range95 = min + e95\n",
        "print('Intervalo de chi para erro de 68%:', min,'até',range68)\n",
        "print('Intervalo de chi para erro de 95%:', min,'até', range95)"
      ],
      "metadata": {
        "colab": {
          "base_uri": "https://localhost:8080/"
        },
        "id": "WnaWJMW7cKH0",
        "outputId": "4074fc3a-05a9-4748-9150-d522e544a2aa"
      },
      "execution_count": 15,
      "outputs": [
        {
          "output_type": "stream",
          "name": "stdout",
          "text": [
            "Intervalo de chi para erro de 68%: 378.02475371090867 até 380.3247537109087\n",
            "Intervalo de chi para erro de 95%: 378.02475371090867 até 384.1947537109087\n"
          ]
        }
      ]
    },
    {
      "cell_type": "code",
      "source": [
        "compchiq = len(dchisq)\n",
        "listachiq1=[]\n",
        "rows1=[]\n",
        "\n",
        "#aqui buscamos rodar dentro de todos os índices de qui quadrados\n",
        "\n",
        "for i in range(compchiq):\n",
        "  chiq1=dchisq[i]\n",
        "  rows1.append(chiq1) #salvando em um dataframe\n",
        "  dframe3 = pd.DataFrame(rows1)\n",
        "w=dframe3[0]\n",
        "sigma1=[]\n",
        "sigma2=[]\n",
        "\n",
        "#de maneira que estudaremos se esses mesmos obedecem as condições de probabilidade\n",
        "\n",
        "for j in w:\n",
        "  if j <= range68:\n",
        "    sigma1.append(j)\n",
        "for k in w:\n",
        "  if k <= range95:\n",
        "    sigma2.append(k)\n",
        "\n",
        " #foi separado, para cada um dos valores que obedece ou sigma1 ou sigma2, dataframes contendo os dados   \n",
        "\n",
        "dfsigma1= pd.DataFrame (sigma1)\n",
        "dfsigma2 = pd.DataFrame(sigma2)\n",
        "dffs = pd.concat([dfsigma1, dfsigma2], axis=1, ignore_index=True)\n",
        "dffs.rename(columns={0: 'Sigma 1', 1: 'Sigma 2'}, inplace = True)\n",
        "\n",
        "#visualizamos os pontos gerados\n",
        "dffs"
      ],
      "metadata": {
        "colab": {
          "base_uri": "https://localhost:8080/",
          "height": 676
        },
        "id": "3xoXPqEAdTJj",
        "outputId": "00647311-9e50-4bb0-8e18-d852abc3ab9a"
      },
      "execution_count": 16,
      "outputs": [
        {
          "output_type": "execute_result",
          "data": {
            "text/plain": [
              "       Sigma 1     Sigma 2\n",
              "0   379.333095  383.069283\n",
              "1   378.250882  381.308358\n",
              "2   378.024754  380.508956\n",
              "3   378.627419  380.638600\n",
              "4   380.032609  384.180345\n",
              "5          NaN  381.666106\n",
              "6          NaN  381.299754\n",
              "7          NaN  383.561517\n",
              "8          NaN  379.333095\n",
              "9          NaN  378.250882\n",
              "10         NaN  378.024754\n",
              "11         NaN  378.627419\n",
              "12         NaN  380.032609\n",
              "13         NaN  383.400002\n",
              "14         NaN  382.215030\n",
              "15         NaN  381.781733\n",
              "16         NaN  380.959725\n",
              "17         NaN  380.909838\n",
              "18         NaN  381.608790\n",
              "19         NaN  383.034125"
            ],
            "text/html": [
              "\n",
              "  <div id=\"df-3246bd40-3637-49fc-adc7-153483cba5c7\">\n",
              "    <div class=\"colab-df-container\">\n",
              "      <div>\n",
              "<style scoped>\n",
              "    .dataframe tbody tr th:only-of-type {\n",
              "        vertical-align: middle;\n",
              "    }\n",
              "\n",
              "    .dataframe tbody tr th {\n",
              "        vertical-align: top;\n",
              "    }\n",
              "\n",
              "    .dataframe thead th {\n",
              "        text-align: right;\n",
              "    }\n",
              "</style>\n",
              "<table border=\"1\" class=\"dataframe\">\n",
              "  <thead>\n",
              "    <tr style=\"text-align: right;\">\n",
              "      <th></th>\n",
              "      <th>Sigma 1</th>\n",
              "      <th>Sigma 2</th>\n",
              "    </tr>\n",
              "  </thead>\n",
              "  <tbody>\n",
              "    <tr>\n",
              "      <th>0</th>\n",
              "      <td>379.333095</td>\n",
              "      <td>383.069283</td>\n",
              "    </tr>\n",
              "    <tr>\n",
              "      <th>1</th>\n",
              "      <td>378.250882</td>\n",
              "      <td>381.308358</td>\n",
              "    </tr>\n",
              "    <tr>\n",
              "      <th>2</th>\n",
              "      <td>378.024754</td>\n",
              "      <td>380.508956</td>\n",
              "    </tr>\n",
              "    <tr>\n",
              "      <th>3</th>\n",
              "      <td>378.627419</td>\n",
              "      <td>380.638600</td>\n",
              "    </tr>\n",
              "    <tr>\n",
              "      <th>4</th>\n",
              "      <td>380.032609</td>\n",
              "      <td>384.180345</td>\n",
              "    </tr>\n",
              "    <tr>\n",
              "      <th>5</th>\n",
              "      <td>NaN</td>\n",
              "      <td>381.666106</td>\n",
              "    </tr>\n",
              "    <tr>\n",
              "      <th>6</th>\n",
              "      <td>NaN</td>\n",
              "      <td>381.299754</td>\n",
              "    </tr>\n",
              "    <tr>\n",
              "      <th>7</th>\n",
              "      <td>NaN</td>\n",
              "      <td>383.561517</td>\n",
              "    </tr>\n",
              "    <tr>\n",
              "      <th>8</th>\n",
              "      <td>NaN</td>\n",
              "      <td>379.333095</td>\n",
              "    </tr>\n",
              "    <tr>\n",
              "      <th>9</th>\n",
              "      <td>NaN</td>\n",
              "      <td>378.250882</td>\n",
              "    </tr>\n",
              "    <tr>\n",
              "      <th>10</th>\n",
              "      <td>NaN</td>\n",
              "      <td>378.024754</td>\n",
              "    </tr>\n",
              "    <tr>\n",
              "      <th>11</th>\n",
              "      <td>NaN</td>\n",
              "      <td>378.627419</td>\n",
              "    </tr>\n",
              "    <tr>\n",
              "      <th>12</th>\n",
              "      <td>NaN</td>\n",
              "      <td>380.032609</td>\n",
              "    </tr>\n",
              "    <tr>\n",
              "      <th>13</th>\n",
              "      <td>NaN</td>\n",
              "      <td>383.400002</td>\n",
              "    </tr>\n",
              "    <tr>\n",
              "      <th>14</th>\n",
              "      <td>NaN</td>\n",
              "      <td>382.215030</td>\n",
              "    </tr>\n",
              "    <tr>\n",
              "      <th>15</th>\n",
              "      <td>NaN</td>\n",
              "      <td>381.781733</td>\n",
              "    </tr>\n",
              "    <tr>\n",
              "      <th>16</th>\n",
              "      <td>NaN</td>\n",
              "      <td>380.959725</td>\n",
              "    </tr>\n",
              "    <tr>\n",
              "      <th>17</th>\n",
              "      <td>NaN</td>\n",
              "      <td>380.909838</td>\n",
              "    </tr>\n",
              "    <tr>\n",
              "      <th>18</th>\n",
              "      <td>NaN</td>\n",
              "      <td>381.608790</td>\n",
              "    </tr>\n",
              "    <tr>\n",
              "      <th>19</th>\n",
              "      <td>NaN</td>\n",
              "      <td>383.034125</td>\n",
              "    </tr>\n",
              "  </tbody>\n",
              "</table>\n",
              "</div>\n",
              "      <button class=\"colab-df-convert\" onclick=\"convertToInteractive('df-3246bd40-3637-49fc-adc7-153483cba5c7')\"\n",
              "              title=\"Convert this dataframe to an interactive table.\"\n",
              "              style=\"display:none;\">\n",
              "        \n",
              "  <svg xmlns=\"http://www.w3.org/2000/svg\" height=\"24px\"viewBox=\"0 0 24 24\"\n",
              "       width=\"24px\">\n",
              "    <path d=\"M0 0h24v24H0V0z\" fill=\"none\"/>\n",
              "    <path d=\"M18.56 5.44l.94 2.06.94-2.06 2.06-.94-2.06-.94-.94-2.06-.94 2.06-2.06.94zm-11 1L8.5 8.5l.94-2.06 2.06-.94-2.06-.94L8.5 2.5l-.94 2.06-2.06.94zm10 10l.94 2.06.94-2.06 2.06-.94-2.06-.94-.94-2.06-.94 2.06-2.06.94z\"/><path d=\"M17.41 7.96l-1.37-1.37c-.4-.4-.92-.59-1.43-.59-.52 0-1.04.2-1.43.59L10.3 9.45l-7.72 7.72c-.78.78-.78 2.05 0 2.83L4 21.41c.39.39.9.59 1.41.59.51 0 1.02-.2 1.41-.59l7.78-7.78 2.81-2.81c.8-.78.8-2.07 0-2.86zM5.41 20L4 18.59l7.72-7.72 1.47 1.35L5.41 20z\"/>\n",
              "  </svg>\n",
              "      </button>\n",
              "      \n",
              "  <style>\n",
              "    .colab-df-container {\n",
              "      display:flex;\n",
              "      flex-wrap:wrap;\n",
              "      gap: 12px;\n",
              "    }\n",
              "\n",
              "    .colab-df-convert {\n",
              "      background-color: #E8F0FE;\n",
              "      border: none;\n",
              "      border-radius: 50%;\n",
              "      cursor: pointer;\n",
              "      display: none;\n",
              "      fill: #1967D2;\n",
              "      height: 32px;\n",
              "      padding: 0 0 0 0;\n",
              "      width: 32px;\n",
              "    }\n",
              "\n",
              "    .colab-df-convert:hover {\n",
              "      background-color: #E2EBFA;\n",
              "      box-shadow: 0px 1px 2px rgba(60, 64, 67, 0.3), 0px 1px 3px 1px rgba(60, 64, 67, 0.15);\n",
              "      fill: #174EA6;\n",
              "    }\n",
              "\n",
              "    [theme=dark] .colab-df-convert {\n",
              "      background-color: #3B4455;\n",
              "      fill: #D2E3FC;\n",
              "    }\n",
              "\n",
              "    [theme=dark] .colab-df-convert:hover {\n",
              "      background-color: #434B5C;\n",
              "      box-shadow: 0px 1px 3px 1px rgba(0, 0, 0, 0.15);\n",
              "      filter: drop-shadow(0px 1px 2px rgba(0, 0, 0, 0.3));\n",
              "      fill: #FFFFFF;\n",
              "    }\n",
              "  </style>\n",
              "\n",
              "      <script>\n",
              "        const buttonEl =\n",
              "          document.querySelector('#df-3246bd40-3637-49fc-adc7-153483cba5c7 button.colab-df-convert');\n",
              "        buttonEl.style.display =\n",
              "          google.colab.kernel.accessAllowed ? 'block' : 'none';\n",
              "\n",
              "        async function convertToInteractive(key) {\n",
              "          const element = document.querySelector('#df-3246bd40-3637-49fc-adc7-153483cba5c7');\n",
              "          const dataTable =\n",
              "            await google.colab.kernel.invokeFunction('convertToInteractive',\n",
              "                                                     [key], {});\n",
              "          if (!dataTable) return;\n",
              "\n",
              "          const docLinkHtml = 'Like what you see? Visit the ' +\n",
              "            '<a target=\"_blank\" href=https://colab.research.google.com/notebooks/data_table.ipynb>data table notebook</a>'\n",
              "            + ' to learn more about interactive tables.';\n",
              "          element.innerHTML = '';\n",
              "          dataTable['output_type'] = 'display_data';\n",
              "          await google.colab.output.renderOutput(dataTable, element);\n",
              "          const docLink = document.createElement('div');\n",
              "          docLink.innerHTML = docLinkHtml;\n",
              "          element.appendChild(docLink);\n",
              "        }\n",
              "      </script>\n",
              "    </div>\n",
              "  </div>\n",
              "  "
            ]
          },
          "metadata": {},
          "execution_count": 16
        }
      ]
    },
    {
      "cell_type": "markdown",
      "source": [
        "Agora definimos os índices dos $\\chi^2$ que obedecem as condições de propabilidade para podermos relacionar com os seus respectivos $\\Omega_m$ e $H_0$ do dataset inicial."
      ],
      "metadata": {
        "id": "UazR0jDgf0aG"
      }
    },
    {
      "cell_type": "code",
      "source": [
        "listachiq2=[]\n",
        "rows2=[]\n",
        "#criamos esse contador para eventualmente descobrir o par (h0,omega m) no data frame inicial, para cada índice dos chis que descobrimos \n",
        "count=0\n",
        "listacontador=[]\n",
        "\n",
        "#o primeiro for está rodando dentro do comprimento da coluna que existe todos os chis, sem filtro algum\n",
        "#geramos também um dataframe que contenha os chis filtrados e logo menos iremos fundí-lo com o dataframe dos contadores\n",
        "\n",
        "for i in range(len(dchisq)):\n",
        "  target=dchisq[i]\n",
        "  count=count+1\n",
        "  if target <= range68:\n",
        "    rows2.append(target)\n",
        "    dframe4=pd.DataFrame(rows2)\n",
        "    listacontador.append(count) \n",
        "  elif target <= range95:\n",
        "    rows2.append(target)\n",
        "    dframe4=pd.DataFrame(rows2) \n",
        "    listacontador.append(count)"
      ],
      "metadata": {
        "id": "waMRN4e1fBEh"
      },
      "execution_count": 17,
      "outputs": []
    },
    {
      "cell_type": "code",
      "source": [
        "\n",
        "\n",
        "dframe5=pd.DataFrame(listacontador)\n",
        "dffs= pd.concat([dframe4, dframe5], axis=1, ignore_index=True)\n",
        "\n",
        "dframe50=dframe5[0]\n",
        "listah0=[]\n",
        "listaomm=[]\n",
        "for i in range(len(dframe5)):\n",
        "  index=dframe50[i]\n",
        "  #aqui é possível achar os parâmetros relacionados aos chis filtrados\n",
        "  listah0.append(dh0[index])\n",
        "  listaomm.append(domm[index])\n",
        "\n",
        "dframe6=pd.DataFrame(listah0)\n",
        "dframe7=pd.DataFrame(listaomm)\n",
        "\n",
        "#concatenamos novamente os dataframes agora gerando um geral que contenha todas as informações necessárias para gerar um scatter \n",
        "\n",
        "dffs1= pd.concat([dframe6, dframe7], axis=1, ignore_index=True)\n",
        "dffs2= pd.concat([dffs1, dffs], axis=1, ignore_index=True)\n",
        "dffs2.rename(columns={0: 'H_0', 1: 'Omega_m0', 2:'Chi quadrado', 3:'Índices'}, inplace = True)\n",
        "dffs2"
      ],
      "metadata": {
        "colab": {
          "base_uri": "https://localhost:8080/",
          "height": 676
        },
        "id": "8_K_K-qvgPAy",
        "outputId": "daefba19-f587-4615-d65f-7864fed4e8da"
      },
      "execution_count": 18,
      "outputs": [
        {
          "output_type": "execute_result",
          "data": {
            "text/plain": [
              "    H_0  Omega_m0  Chi quadrado  Índices\n",
              "0    69     0.365    383.069283     3742\n",
              "1    69     0.370    381.308358     3793\n",
              "2    69     0.375    380.508956     3844\n",
              "3    69     0.380    380.638600     3895\n",
              "4    68     0.385    384.180345     3945\n",
              "5    69     0.385    381.666106     3946\n",
              "6    68     0.390    381.299754     3996\n",
              "7    69     0.390    383.561517     3997\n",
              "8    68     0.395    379.333095     4047\n",
              "9    68     0.400    378.250882     4098\n",
              "10   68     0.405    378.024754     4149\n",
              "11   68     0.410    378.627419     4200\n",
              "12   68     0.415    380.032609     4251\n",
              "13   67     0.420    383.400002     4301\n",
              "14   68     0.420    382.215030     4302\n",
              "15   67     0.425    381.781733     4352\n",
              "16   67     0.430    380.959725     4403\n",
              "17   67     0.435    380.909838     4454\n",
              "18   67     0.440    381.608790     4505\n",
              "19   67     0.445    383.034125     4556"
            ],
            "text/html": [
              "\n",
              "  <div id=\"df-f182be50-7803-4864-82ab-0274cbe79864\">\n",
              "    <div class=\"colab-df-container\">\n",
              "      <div>\n",
              "<style scoped>\n",
              "    .dataframe tbody tr th:only-of-type {\n",
              "        vertical-align: middle;\n",
              "    }\n",
              "\n",
              "    .dataframe tbody tr th {\n",
              "        vertical-align: top;\n",
              "    }\n",
              "\n",
              "    .dataframe thead th {\n",
              "        text-align: right;\n",
              "    }\n",
              "</style>\n",
              "<table border=\"1\" class=\"dataframe\">\n",
              "  <thead>\n",
              "    <tr style=\"text-align: right;\">\n",
              "      <th></th>\n",
              "      <th>H_0</th>\n",
              "      <th>Omega_m0</th>\n",
              "      <th>Chi quadrado</th>\n",
              "      <th>Índices</th>\n",
              "    </tr>\n",
              "  </thead>\n",
              "  <tbody>\n",
              "    <tr>\n",
              "      <th>0</th>\n",
              "      <td>69</td>\n",
              "      <td>0.365</td>\n",
              "      <td>383.069283</td>\n",
              "      <td>3742</td>\n",
              "    </tr>\n",
              "    <tr>\n",
              "      <th>1</th>\n",
              "      <td>69</td>\n",
              "      <td>0.370</td>\n",
              "      <td>381.308358</td>\n",
              "      <td>3793</td>\n",
              "    </tr>\n",
              "    <tr>\n",
              "      <th>2</th>\n",
              "      <td>69</td>\n",
              "      <td>0.375</td>\n",
              "      <td>380.508956</td>\n",
              "      <td>3844</td>\n",
              "    </tr>\n",
              "    <tr>\n",
              "      <th>3</th>\n",
              "      <td>69</td>\n",
              "      <td>0.380</td>\n",
              "      <td>380.638600</td>\n",
              "      <td>3895</td>\n",
              "    </tr>\n",
              "    <tr>\n",
              "      <th>4</th>\n",
              "      <td>68</td>\n",
              "      <td>0.385</td>\n",
              "      <td>384.180345</td>\n",
              "      <td>3945</td>\n",
              "    </tr>\n",
              "    <tr>\n",
              "      <th>5</th>\n",
              "      <td>69</td>\n",
              "      <td>0.385</td>\n",
              "      <td>381.666106</td>\n",
              "      <td>3946</td>\n",
              "    </tr>\n",
              "    <tr>\n",
              "      <th>6</th>\n",
              "      <td>68</td>\n",
              "      <td>0.390</td>\n",
              "      <td>381.299754</td>\n",
              "      <td>3996</td>\n",
              "    </tr>\n",
              "    <tr>\n",
              "      <th>7</th>\n",
              "      <td>69</td>\n",
              "      <td>0.390</td>\n",
              "      <td>383.561517</td>\n",
              "      <td>3997</td>\n",
              "    </tr>\n",
              "    <tr>\n",
              "      <th>8</th>\n",
              "      <td>68</td>\n",
              "      <td>0.395</td>\n",
              "      <td>379.333095</td>\n",
              "      <td>4047</td>\n",
              "    </tr>\n",
              "    <tr>\n",
              "      <th>9</th>\n",
              "      <td>68</td>\n",
              "      <td>0.400</td>\n",
              "      <td>378.250882</td>\n",
              "      <td>4098</td>\n",
              "    </tr>\n",
              "    <tr>\n",
              "      <th>10</th>\n",
              "      <td>68</td>\n",
              "      <td>0.405</td>\n",
              "      <td>378.024754</td>\n",
              "      <td>4149</td>\n",
              "    </tr>\n",
              "    <tr>\n",
              "      <th>11</th>\n",
              "      <td>68</td>\n",
              "      <td>0.410</td>\n",
              "      <td>378.627419</td>\n",
              "      <td>4200</td>\n",
              "    </tr>\n",
              "    <tr>\n",
              "      <th>12</th>\n",
              "      <td>68</td>\n",
              "      <td>0.415</td>\n",
              "      <td>380.032609</td>\n",
              "      <td>4251</td>\n",
              "    </tr>\n",
              "    <tr>\n",
              "      <th>13</th>\n",
              "      <td>67</td>\n",
              "      <td>0.420</td>\n",
              "      <td>383.400002</td>\n",
              "      <td>4301</td>\n",
              "    </tr>\n",
              "    <tr>\n",
              "      <th>14</th>\n",
              "      <td>68</td>\n",
              "      <td>0.420</td>\n",
              "      <td>382.215030</td>\n",
              "      <td>4302</td>\n",
              "    </tr>\n",
              "    <tr>\n",
              "      <th>15</th>\n",
              "      <td>67</td>\n",
              "      <td>0.425</td>\n",
              "      <td>381.781733</td>\n",
              "      <td>4352</td>\n",
              "    </tr>\n",
              "    <tr>\n",
              "      <th>16</th>\n",
              "      <td>67</td>\n",
              "      <td>0.430</td>\n",
              "      <td>380.959725</td>\n",
              "      <td>4403</td>\n",
              "    </tr>\n",
              "    <tr>\n",
              "      <th>17</th>\n",
              "      <td>67</td>\n",
              "      <td>0.435</td>\n",
              "      <td>380.909838</td>\n",
              "      <td>4454</td>\n",
              "    </tr>\n",
              "    <tr>\n",
              "      <th>18</th>\n",
              "      <td>67</td>\n",
              "      <td>0.440</td>\n",
              "      <td>381.608790</td>\n",
              "      <td>4505</td>\n",
              "    </tr>\n",
              "    <tr>\n",
              "      <th>19</th>\n",
              "      <td>67</td>\n",
              "      <td>0.445</td>\n",
              "      <td>383.034125</td>\n",
              "      <td>4556</td>\n",
              "    </tr>\n",
              "  </tbody>\n",
              "</table>\n",
              "</div>\n",
              "      <button class=\"colab-df-convert\" onclick=\"convertToInteractive('df-f182be50-7803-4864-82ab-0274cbe79864')\"\n",
              "              title=\"Convert this dataframe to an interactive table.\"\n",
              "              style=\"display:none;\">\n",
              "        \n",
              "  <svg xmlns=\"http://www.w3.org/2000/svg\" height=\"24px\"viewBox=\"0 0 24 24\"\n",
              "       width=\"24px\">\n",
              "    <path d=\"M0 0h24v24H0V0z\" fill=\"none\"/>\n",
              "    <path d=\"M18.56 5.44l.94 2.06.94-2.06 2.06-.94-2.06-.94-.94-2.06-.94 2.06-2.06.94zm-11 1L8.5 8.5l.94-2.06 2.06-.94-2.06-.94L8.5 2.5l-.94 2.06-2.06.94zm10 10l.94 2.06.94-2.06 2.06-.94-2.06-.94-.94-2.06-.94 2.06-2.06.94z\"/><path d=\"M17.41 7.96l-1.37-1.37c-.4-.4-.92-.59-1.43-.59-.52 0-1.04.2-1.43.59L10.3 9.45l-7.72 7.72c-.78.78-.78 2.05 0 2.83L4 21.41c.39.39.9.59 1.41.59.51 0 1.02-.2 1.41-.59l7.78-7.78 2.81-2.81c.8-.78.8-2.07 0-2.86zM5.41 20L4 18.59l7.72-7.72 1.47 1.35L5.41 20z\"/>\n",
              "  </svg>\n",
              "      </button>\n",
              "      \n",
              "  <style>\n",
              "    .colab-df-container {\n",
              "      display:flex;\n",
              "      flex-wrap:wrap;\n",
              "      gap: 12px;\n",
              "    }\n",
              "\n",
              "    .colab-df-convert {\n",
              "      background-color: #E8F0FE;\n",
              "      border: none;\n",
              "      border-radius: 50%;\n",
              "      cursor: pointer;\n",
              "      display: none;\n",
              "      fill: #1967D2;\n",
              "      height: 32px;\n",
              "      padding: 0 0 0 0;\n",
              "      width: 32px;\n",
              "    }\n",
              "\n",
              "    .colab-df-convert:hover {\n",
              "      background-color: #E2EBFA;\n",
              "      box-shadow: 0px 1px 2px rgba(60, 64, 67, 0.3), 0px 1px 3px 1px rgba(60, 64, 67, 0.15);\n",
              "      fill: #174EA6;\n",
              "    }\n",
              "\n",
              "    [theme=dark] .colab-df-convert {\n",
              "      background-color: #3B4455;\n",
              "      fill: #D2E3FC;\n",
              "    }\n",
              "\n",
              "    [theme=dark] .colab-df-convert:hover {\n",
              "      background-color: #434B5C;\n",
              "      box-shadow: 0px 1px 3px 1px rgba(0, 0, 0, 0.15);\n",
              "      filter: drop-shadow(0px 1px 2px rgba(0, 0, 0, 0.3));\n",
              "      fill: #FFFFFF;\n",
              "    }\n",
              "  </style>\n",
              "\n",
              "      <script>\n",
              "        const buttonEl =\n",
              "          document.querySelector('#df-f182be50-7803-4864-82ab-0274cbe79864 button.colab-df-convert');\n",
              "        buttonEl.style.display =\n",
              "          google.colab.kernel.accessAllowed ? 'block' : 'none';\n",
              "\n",
              "        async function convertToInteractive(key) {\n",
              "          const element = document.querySelector('#df-f182be50-7803-4864-82ab-0274cbe79864');\n",
              "          const dataTable =\n",
              "            await google.colab.kernel.invokeFunction('convertToInteractive',\n",
              "                                                     [key], {});\n",
              "          if (!dataTable) return;\n",
              "\n",
              "          const docLinkHtml = 'Like what you see? Visit the ' +\n",
              "            '<a target=\"_blank\" href=https://colab.research.google.com/notebooks/data_table.ipynb>data table notebook</a>'\n",
              "            + ' to learn more about interactive tables.';\n",
              "          element.innerHTML = '';\n",
              "          dataTable['output_type'] = 'display_data';\n",
              "          await google.colab.output.renderOutput(dataTable, element);\n",
              "          const docLink = document.createElement('div');\n",
              "          docLink.innerHTML = docLinkHtml;\n",
              "          element.appendChild(docLink);\n",
              "        }\n",
              "      </script>\n",
              "    </div>\n",
              "  </div>\n",
              "  "
            ]
          },
          "metadata": {},
          "execution_count": 18
        }
      ]
    },
    {
      "cell_type": "markdown",
      "source": [
        "Buscamos entender como a expansão do universo dada por H0 e a composição do mesmo, através da matéria (e também da energia escura), se correlaciona. Utilizamos a covariância, afim de comparar, estatisticamente, as duas variáveis em questão, permitindo entender como elas se relacionam entre si."
      ],
      "metadata": {
        "id": "HKq_teGDa-0A"
      }
    },
    {
      "cell_type": "markdown",
      "source": [
        "Para isto, sabendo que uma elipse de erro representa um iso-contorno da distribuição gaussiana e ajuda a  visualizar um intervalo de confiança 2D. Montaremos a seguir um gráfico que mostra um intervalo de 68% (1${\\sigma}$) e 95% (2${\\sigma}$) para um conjunto de dados normalmente distribuídos."
      ],
      "metadata": {
        "id": "Bq8SR2nSaAhM"
      }
    },
    {
      "cell_type": "code",
      "source": [
        "#Salvamos as colunas de h0, omega m em variáveis\n",
        "h0l = dffs2['H_0']\n",
        "oml = dffs2['Omega_m0']\n",
        "\n",
        "\n",
        "#Definimos uma função que retorna os autovalores e autovetores de uma matriz Hermitiana complexa (conjugada simétrica) ou uma matriz simétrica real.\n",
        "#essa matriz, posteriormente, mostramos ser composta exatamente dos pontos covariantes\n",
        "\n",
        "def eigsorted(cov):                     \n",
        "    lambda_, v = np.linalg.eigh(cov)\n",
        "    order = lambda_.argsort()[::-1]\n",
        "    return lambda_[order], v[:,order]\n",
        "\n",
        "\n",
        "#salvamos os pontos, derivados do dataframe gerado por último, em 2 listas\n",
        "\n",
        "listax = []\n",
        "listay= []\n",
        "for n, h in zip(h0l, oml):\n",
        "  listax.append(n)\n",
        "  listay.append(h)\n",
        "\n",
        "#Função de covariância dos pontos\n",
        "cov = np.cov(listax, listay)\n",
        "lambda_, v = np.linalg.eig(cov) #aplica as listas covariadas para gerarem autovalores e autovetores\n",
        "lambda_ = np.sqrt(lambda_)\n",
        "\n",
        "\n",
        "#Geramos a elipse\n",
        "ax = plt.subplot()                                                    #Necessário para plotar os 2 gráficos juntos\n",
        "for j in range(1, 3):\n",
        "  ell = Ellipse(xy=(np.mean(listax), np.mean(listay)),                #Eixos da elipse\n",
        "                width=lambda_[0]*j*2, height=lambda_[1]*j*2.5,        #Ajuste do tamanho da elipse\n",
        "                angle=np.rad2deg(np.arcsin(v[1, 0])), color='black')  #Ajuste da angulatura da elipse\n",
        "  ell.set_facecolor('none')\n",
        "  ax.add_artist(ell)\n",
        "\n",
        "#Fazemos a visualização dos dados espalhando os pontos covariantes \n",
        "\n",
        "plt.scatter(listax, listay, color=\"green\")\n",
        "plt.xlabel(\"$H_0$\", fontsize=18)\n",
        "plt.ylabel(\"$\\Omega_{m,0}$\", fontsize=18)\n",
        "plt.title(\"Intervalo de confiança do modelo cosmológico encontrado\")"
      ],
      "metadata": {
        "colab": {
          "base_uri": "https://localhost:8080/",
          "height": 323
        },
        "id": "aX9hRsNPgmgS",
        "outputId": "8a65fbfa-a4e4-4727-c4b4-cae4637510c9"
      },
      "execution_count": 19,
      "outputs": [
        {
          "output_type": "execute_result",
          "data": {
            "text/plain": [
              "Text(0.5, 1.0, 'Intervalo de confiança do modelo cosmológico encontrado')"
            ]
          },
          "metadata": {},
          "execution_count": 19
        },
        {
          "output_type": "display_data",
          "data": {
            "text/plain": [
              "<Figure size 432x288 with 1 Axes>"
            ],
            "image/png": "[encoded data removed]"
          },
          "metadata": {
            "needs_background": "light"
          }
        }
      ]
    },
    {
      "cell_type": "markdown",
      "source": [
        "Os dados em verde representam os pontos dos pares de $\\Omega_{m,0}$ e $H_0$ e as elipses, mostram os intervalos de confiança que estudamos. Vemos que os pontos que mais chegam perto do melhor ponto que representa o modelo cosmológico, encontramos dentro da elipse menor, que por sua vez representa uma probabilidade menor porém mais refinada em certeza de que a resposta está dentro de sua área.\n",
        "\n",
        "Ratificamos que os pontos dentro da elipse maior possuem 95% de confiança, enquanto os que se encontram dentro da elipse menor, 68%."
      ],
      "metadata": {
        "id": "A_C6fs23nKGk"
      }
    },
    {
      "cell_type": "markdown",
      "source": [
        "Referências:\n",
        "\n",
        "1. \n",
        "http://www.cs.utah.edu/~tch/CS6640F2020/resources/How%20to%20draw%20a%20covariance%20error%20ellipse.pdf\n",
        "\n",
        "2. https://stackoverflow.com/questions/20126061/creating-a-confidence-ellipses-in-a-sccatterplot-using-matplotlib\n",
        "\n",
        "3. https://numpy.org/doc/stable/reference/generated/numpy.linalg.eigh.html\n",
        "\n"
      ],
      "metadata": {
        "id": "7sC-Cdh7lh7l"
      }
    },
    {
      "cell_type": "code",
      "source": [
        ""
      ],
      "metadata": {
        "id": "6bthjcNGmK70"
      },
      "execution_count": null,
      "outputs": []
    }
  ]
}