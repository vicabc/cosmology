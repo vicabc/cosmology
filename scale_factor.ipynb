{
  "nbformat": 4,
  "nbformat_minor": 0,
  "metadata": {
    "colab": {
      "name": "scale_factor.ipynb",
      "provenance": [],
      "collapsed_sections": [],
      "authorship_tag": "ABX9TyNgRjD1UI8rrwvsvwed+W6P",
      "include_colab_link": true
    },
    "kernelspec": {
      "name": "python3",
      "display_name": "Python 3"
    },
    "language_info": {
      "name": "python"
    }
  },
  "cells": [
    {
      "cell_type": "markdown",
      "metadata": {
        "id": "view-in-github",
        "colab_type": "text"
      },
      "source": [
        "<a href=\"https://colab.research.google.com/github/vicabc/cosmology/blob/main/scale_factor.ipynb\" target=\"_parent\"><img src=\"https://colab.research.google.com/assets/colab-badge.svg\" alt=\"Open In Colab\"/></a>"
      ]
    },
    {
      "cell_type": "markdown",
      "source": [
        "\n",
        "**Derivação do fator de escala para um universo plano**"
      ],
      "metadata": {
        "id": "kPuCeDLHXb56"
      }
    },
    {
      "cell_type": "markdown",
      "source": [
        "Atualmente sabemos que o universo está em expansão. Isso implica que as distâncias entre mesmos objetos aumentam. O fator de escala é uma função adimensional do tempo e mostra quanto está aumentando conforme o tempo passa. Imagine que a distância atual entre dois pontos seja L. Em um determinado momento no futuro, a distância entre esses dois pontos será de 1,5 $\\times$ L.\n",
        "\n",
        "Dito isso, é notória a necessidade de incluir esse fator aos cálculos cosmológicos. A exemplo, podemos citar a determinação da distância própria de galáxias.\n",
        "\n",
        "Podemos obter esse fator resolvendo a primeira equação de Friedmann escrita em termos de parâmetro de densidade $Ω_{r,0}= \\frac{\\rho}{\\rho_c}$ onde $\\rho_c$ seja a densidade crítica e está relacionada a um universo plano, ou curvatura $→$ K=0. Então temos:\n",
        "$\\frac{H^{2}}{H_0^{2}}= \\frac{Ω_{m,0}}{a^{3}}+\\frac{Ω_{r,0}}{a^{4}}+\\frac{\\Omega_{K,0}}{a^{2}}+Ω_{Λ,0}$. Sabendo que $\\Omega_{K,0} = \\frac{-K}{H_0^{2}}$ e também que $H^{2}= \\frac{\\dot a ^{2}}{a^{2}}$ então, substituindo obtemos:\n",
        "$\\frac{\\dot a ^{2}}{a^{2}}=H_0^{2}[\\frac{Ω_{m,0}}{a^{3}}+\\frac{Ω_{r,0}}{a^{4}}+Ω_{Λ,0}]$. Isolando a derivada do fator de escala, vemos: $\\dot a^{2}= H_0^{2}[\\frac{Ω_{m,0}}{a}+\\frac{Ω_{r,0}}{a^{2}}+Ω_{Λ,0}a^{2}]$. Podemos obter o resultado da EDO integralizando. Sendo assim, temos: $\\dot a= H_0[\\frac{Ω_{m,0}}{a}+\\frac{Ω_{r,0}}{a^{2}}+Ω_{Λ,0}a^{2}]^{1/2}$, daí vemos que, $ \\int_{0}^{t} H_0 \\,dt = \\int_{0}^{a} \\frac{1}{{\\sqrt{\\frac{Ω_{m,0}}{a}+\\frac{Ω_{r,0}}{a^{2}}+Ω_{Λ,0}}}} \\,da $. Dito isso, iremos resolver essa integral com o auxílio dos métodos númericos a seguir."
      ],
      "metadata": {
        "id": "Lr7QTe3yZmiE"
      }
    },
    {
      "cell_type": "code",
      "execution_count": 65,
      "metadata": {
        "id": "MMtJX5ouWJ8O"
      },
      "outputs": [],
      "source": [
        "import numpy as np\n",
        "import scipy.integrate as integrate\n",
        "\n",
        "# constante de Hubble ((km/s) / Mpc) estimado pelos resultados final da missão Planck\n",
        "H0 = 67.66\n",
        "\n",
        "# constante de Hubble convertida para (1 / Gyr)\n",
        "H0 = H0 * 0.00102271\n",
        "\n",
        "# Parâmetro de densidade da radiação atualmente\n",
        "\n",
        "Or0 = 0.0014936944554559174\n",
        "\n",
        "# Parâmetro de densidade da matéria bariônica e matéria escura atualmente\n",
        "\n",
        "Om0 = 0.30966\n",
        "\n",
        "# Parâmetro de densidade da energia escura atualmente \n",
        "\n",
        "Ode0 = 0.6888463055445441\n",
        "\n",
        "# Criamos uma variável que é descrita por espaçamento uniforme em um intervalo especificado pelo número de passos\n",
        "\n",
        "a = np.linspace(1e-10, 3, 5000)\n",
        "\n",
        "#Definimos a função que iremos integrar\n",
        "\n",
        "expr = lambda a: 1 / np.sqrt(Or0/a**2 + Om0/a + Ode0*a**2)\n",
        "t = np.array([integrate.quad(expr, 0, i)[0]/H0 for i in a]) #integral resolvida\n"
      ]
    },
    {
      "cell_type": "markdown",
      "source": [
        "Ao executar os comandos que geram as variáveis (a,t) criamos intervalos de pontos e devemos correlaciona-los de maneira que vejamos a em função de t, através de um ajuste polinomial."
      ],
      "metadata": {
        "id": "7X9Ecp_bNLK7"
      }
    },
    {
      "cell_type": "code",
      "source": [
        "#Ajuste polinomial\n",
        "\n",
        "coefs = np.polyfit(t, a, 9)\n",
        "\n",
        "# scale_factor como classe polinomial unidimensional\n",
        "\n",
        "scale_factor = np.poly1d(coefs)"
      ],
      "metadata": {
        "id": "7zPJgfJkWWHr"
      },
      "execution_count": 66,
      "outputs": []
    },
    {
      "cell_type": "markdown",
      "source": [
        "O fator de escala a calculado na célula anterior, é a seguinte expressão polinomial:"
      ],
      "metadata": {
        "id": "giEvH545OnqW"
      }
    },
    {
      "cell_type": "code",
      "source": [
        "# imprime o polinômio scale_factor\n",
        "print(scale_factor)"
      ],
      "metadata": {
        "id": "tqrbBNc9O40M",
        "outputId": "1b65e8b1-f644-4588-cde7-5241433a9e09",
        "colab": {
          "base_uri": "https://localhost:8080/"
        }
      },
      "execution_count": 67,
      "outputs": [
        {
          "output_type": "stream",
          "name": "stdout",
          "text": [
            "           9             8            7            6             5\n",
            "7.209e-12 x - 1.113e-09 x + 7.29e-08 x - 2.64e-06 x + 5.776e-05 x\n",
            "              4            3           2\n",
            " - 0.0007852 x + 0.006647 x - 0.03411 x + 0.1594 x + 0.02016\n"
          ]
        }
      ]
    },
    {
      "cell_type": "code",
      "source": [
        "# Definimos um novo intervalo para representar o tempo, entre 0 e 30 bilhões de anos após o Big Bang.\n",
        "\n",
        "t = np.linspace(1e-10, 30)\n",
        "\n",
        "# Finalmente calculamos o fator de escala para cada um desses passos (tempo)\n",
        "\n",
        "a = scale_factor(t)\n",
        "a"
      ],
      "metadata": {
        "id": "kvdf9sIrN72l",
        "outputId": "68730639-68b9-4fbd-831b-0215bf63d947",
        "colab": {
          "base_uri": "https://localhost:8080/"
        }
      },
      "execution_count": 68,
      "outputs": [
        {
          "output_type": "execute_result",
          "data": {
            "text/plain": [
              "array([0.02016347, 0.1063627 , 0.17473638, 0.23113948, 0.27977363,\n",
              "       0.32356984, 0.36450272, 0.40384496, 0.4423704 , 0.48051308,\n",
              "       0.51848913, 0.55638742, 0.59423463, 0.63203949, 0.66982059,\n",
              "       0.70762134, 0.74551553, 0.78360618, 0.82201998, 0.86089931,\n",
              "       0.90039334, 0.94064942, 0.98180565, 1.02398518, 1.06729266,\n",
              "       1.11181279, 1.15761119, 1.20473699, 1.25322709, 1.30311152,\n",
              "       1.35441927, 1.40718425, 1.46145071, 1.51727758, 1.57474132,\n",
              "       1.63393693, 1.69497683, 1.75798759, 1.82310457, 1.89046481,\n",
              "       1.9601988 , 2.03242191, 2.10722676, 2.18467801, 2.26481144,\n",
              "       2.34763973, 2.4331676 , 2.5214197 , 2.61248477, 2.70658051])"
            ]
          },
          "metadata": {},
          "execution_count": 68
        }
      ]
    },
    {
      "cell_type": "code",
      "source": [
        "plt.figure(figsize=(12, 8))\n",
        "plt.plot(a, t)\n",
        "plt.xlabel('Fator de Escala')\n",
        "plt.ylabel('Tempo (Bilhões de Anos)')\n",
        "plt.title('Evolução do Fator de Escala')\n",
        "plt.grid(True)\n",
        "plt.show()\n"
      ],
      "metadata": {
        "id": "_ftVlZrWY9ki",
        "outputId": "3bb64e03-09f4-474e-c053-fa25f33bd93d",
        "colab": {
          "base_uri": "https://localhost:8080/",
          "height": 513
        }
      },
      "execution_count": 72,
      "outputs": [
        {
          "output_type": "display_data",
          "data": {
            "text/plain": [
              "<Figure size 864x576 with 1 Axes>"
            ],
            "image/png": "[encoded data removed]"
          },
          "metadata": {
            "needs_background": "light"
          }
        }
      ]
    },
    {
      "cell_type": "markdown",
      "source": [
        "Podemos ver que o fator de escala sempre aumentou desde o Big Bang e continuará aumentando. Também vemos o esperado: em torno de 13 bilhões de anos, vemos o fator de escala próximo de 1."
      ],
      "metadata": {
        "id": "ET-JoKKecZRp"
      }
    },
    {
      "cell_type": "markdown",
      "source": [
        "Ref:\n",
        "\n",
        "https://astrodatascience.net/how-to-calculate-scale-factor/\n"
      ],
      "metadata": {
        "id": "tVlO9JNgIH7p"
      }
    }
  ]
}