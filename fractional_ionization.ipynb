{
  "nbformat": 4,
  "nbformat_minor": 0,
  "metadata": {
    "colab": {
      "name": " fractional_ionization.ipynb",
      "provenance": [],
      "collapsed_sections": [],
      "include_colab_link": true
    },
    "kernelspec": {
      "name": "python3",
      "display_name": "Python 3"
    },
    "language_info": {
      "name": "python"
    }
  },
  "cells": [
    {
      "cell_type": "markdown",
      "metadata": {
        "id": "view-in-github",
        "colab_type": "text"
      },
      "source": [
        "<a href=\"https://colab.research.google.com/github/vicabc/cosmology/blob/main/fractional_ionization.ipynb\" target=\"_parent\"><img src=\"https://colab.research.google.com/assets/colab-badge.svg\" alt=\"Open In Colab\"/></a>"
      ]
    },
    {
      "cell_type": "markdown",
      "source": [
        "Buscamos plotar a ionização fracionada X em função da temperatura, na faixa $3000K < T < 4500 K$ primeiro faça o gráfico assumindo $η = 4 × 10^{-10}$ , depois assumindo $η = 8 × 10 ^{−10}$ sendo η a razão bárion-fóton."
      ],
      "metadata": {
        "id": "vjAcDZJ4vPP6"
      }
    },
    {
      "cell_type": "code",
      "execution_count": 1,
      "metadata": {
        "id": "gvTdu7jUW1jk"
      },
      "outputs": [],
      "source": [
        "import matplotlib.pyplot as plt\n",
        "import numpy as np\n",
        "import math"
      ]
    },
    {
      "cell_type": "markdown",
      "source": [
        "Definimos as constantes a serem utilizadas:\n",
        "\n",
        "*   c: velocidade da luz\n",
        "*   me: massa do elétron\n",
        "*   Q: energia de inonização\n",
        "*   kb: constante de Boltzmann"
      ],
      "metadata": {
        "id": "8IbvYVNnuxYN"
      }
    },
    {
      "cell_type": "code",
      "source": [
        "eta = 4e-10 \n",
        "eta2 = 8e-10\n",
        "c=3e+8 # m/s\n",
        "me = 9.11e-31 # kg\n",
        "kb = 1.38e-23 # m^2kg/s^2 K\n",
        "Q=13.6*1.60218e-19 # kg m^2/s^2\n"
      ],
      "metadata": {
        "id": "m8P7e-KzW8ao"
      },
      "execution_count": 2,
      "outputs": []
    },
    {
      "cell_type": "markdown",
      "source": [
        "Definimos o intervalo onde a temperatura varia."
      ],
      "metadata": {
        "id": "q1VHcM07wxHZ"
      }
    },
    {
      "cell_type": "code",
      "source": [
        "T=np.arange(3000,4600,100)\n",
        "T"
      ],
      "metadata": {
        "colab": {
          "base_uri": "https://localhost:8080/"
        },
        "id": "k6NF_WqWXAzt",
        "outputId": "81024c66-fb4f-4349-953f-e8dc35708120"
      },
      "execution_count": 14,
      "outputs": [
        {
          "output_type": "execute_result",
          "data": {
            "text/plain": [
              "array([3000, 3100, 3200, 3300, 3400, 3500, 3600, 3700, 3800, 3900, 4000,\n",
              "       4100, 4200, 4300, 4400, 4500])"
            ]
          },
          "metadata": {},
          "execution_count": 14
        }
      ]
    },
    {
      "cell_type": "markdown",
      "source": [
        "Nosso próximo trabalho é escrever a equação de Saha\n",
        "em uma relação entre X, T e η. \n",
        "Sendo ela \n",
        "\n",
        "\\begin{equation} S(T,\\eta) =3.84̇η \\begin{bmatrix}\\frac{kT}{m_ec^2}\\end{bmatrix}^{3/2}̇\\exp\\begin{bmatrix}{\\frac{Q}{kT}}\\end{bmatrix} \\end{equation}"
      ],
      "metadata": {
        "id": "bN7uRbkLyamd"
      }
    },
    {
      "cell_type": "code",
      "source": [
        "exp1 = Q/(kb*T)\n",
        "exp2 = np.power(math.e,exp1)\n",
        "a = me*np.power(c,2)\n",
        "ass2 = ((kb*T)/(ass))\n",
        "ass3 = np.power(ass2, (3/2))\n",
        "ass3"
      ],
      "metadata": {
        "colab": {
          "base_uri": "https://localhost:8080/"
        },
        "id": "4OhF2NazZNbC",
        "outputId": "8d6a8f76-edee-47b0-ea84-ffe7f11f56da"
      },
      "execution_count": 16,
      "outputs": [
        {
          "output_type": "execute_result",
          "data": {
            "text/plain": [
              "array([3.58805575e-10, 3.76894535e-10, 3.95277658e-10, 4.13950308e-10,\n",
              "       4.32908064e-10, 4.52146701e-10, 4.71662177e-10, 4.91450619e-10,\n",
              "       5.11508311e-10, 5.31831688e-10, 5.52417320e-10, 5.73261908e-10,\n",
              "       5.94362274e-10, 6.15715354e-10, 6.37318191e-10, 6.59167931e-10])"
            ]
          },
          "metadata": {},
          "execution_count": 16
        }
      ]
    },
    {
      "cell_type": "code",
      "source": [
        "S = 3.84*eta*ass3*exp2\n",
        "S2 = 3.84*eta2*ass3*exp2\n",
        "S"
      ],
      "metadata": {
        "colab": {
          "base_uri": "https://localhost:8080/"
        },
        "id": "WCf1nXn-aprD",
        "outputId": "71ef3706-d270-4a16-bcc3-d30053fbdb82"
      },
      "execution_count": 7,
      "outputs": [
        {
          "output_type": "execute_result",
          "data": {
            "text/plain": [
              "array([3.97225911e+04, 7.63924176e+03, 1.63105632e+03, 3.82953414e+02,\n",
              "       9.80443634e+01, 2.71681200e+01, 8.09428036e+00, 2.57757940e+00,\n",
              "       8.72700775e-01, 3.12664544e-01, 1.18031760e-01, 4.67686061e-02,\n",
              "       1.93835486e-02, 8.37653822e-03, 3.76359099e-03, 1.75352543e-03])"
            ]
          },
          "metadata": {},
          "execution_count": 7
        }
      ]
    },
    {
      "cell_type": "code",
      "source": [
        "S2"
      ],
      "metadata": {
        "colab": {
          "base_uri": "https://localhost:8080/"
        },
        "id": "Oe8IPTeFi3iN",
        "outputId": "6028f2cd-b4f2-41b5-efc6-6b7b795871bb"
      },
      "execution_count": 8,
      "outputs": [
        {
          "output_type": "execute_result",
          "data": {
            "text/plain": [
              "array([7.94451821e+04, 1.52784835e+04, 3.26211263e+03, 7.65906827e+02,\n",
              "       1.96088727e+02, 5.43362399e+01, 1.61885607e+01, 5.15515879e+00,\n",
              "       1.74540155e+00, 6.25329088e-01, 2.36063519e-01, 9.35372122e-02,\n",
              "       3.87670973e-02, 1.67530764e-02, 7.52718198e-03, 3.50705085e-03])"
            ]
          },
          "metadata": {},
          "execution_count": 8
        }
      ]
    },
    {
      "cell_type": "code",
      "source": [
        "sqrt1 = (1+4*S)**(1/2)\n",
        "sqrt3 = (1+4*S2)**(1/2)"
      ],
      "metadata": {
        "id": "ADZSuv1IbMuF"
      },
      "execution_count": 9,
      "outputs": []
    },
    {
      "cell_type": "code",
      "source": [
        "sqrt2 = (sqrt1)-1\n",
        "sqrt4 = (sqrt3)-1"
      ],
      "metadata": {
        "id": "zyBJN7xafrQw"
      },
      "execution_count": 10,
      "outputs": []
    },
    {
      "cell_type": "markdown",
      "source": [
        "Agora escrevemos a ionização fracionada que possui forma:\n",
        "\n",
        "\\begin{equation}\n",
        "X = \\frac{-1 + \\sqrt{1+4S}}{2S}\n",
        "\\end{equation}"
      ],
      "metadata": {
        "id": "4mx_AqZR0Mco"
      }
    },
    {
      "cell_type": "code",
      "source": [
        "X = (sqrt2)/(2*S) # para eta = 4e-10\n",
        "X2 = (sqrt4)/(2*S2) #para eta = 8e-10"
      ],
      "metadata": {
        "id": "d0fd_lsLbolU"
      },
      "execution_count": 18,
      "outputs": []
    },
    {
      "cell_type": "code",
      "source": [
        "plt.plot(T,X, 'r',label='η = 4e-10')\n",
        "plt.plot(T,X2, 'g',label='η = 8e-10')\n",
        "plt.ylabel('Ionization Fraction')\n",
        "plt.xlabel('T(K)')\n",
        "plt.legend()\n",
        "plt.show()\n"
      ],
      "metadata": {
        "colab": {
          "base_uri": "https://localhost:8080/",
          "height": 278
        },
        "id": "j4CB7JzSb9Dx",
        "outputId": "e747ba2c-adfb-4fd0-e9b6-f5e3a0563d17"
      },
      "execution_count": 22,
      "outputs": [
        {
          "output_type": "display_data",
          "data": {
            "text/plain": [
              "<Figure size 432x288 with 1 Axes>"
            ],
            "image/png": "[encoded data removed]"
          },
          "metadata": {
            "needs_background": "light"
          }
        }
      ]
    },
    {
      "cell_type": "code",
      "source": [
        ""
      ],
      "metadata": {
        "id": "5el-oqy7cMY9"
      },
      "execution_count": null,
      "outputs": []
    }
  ]
}