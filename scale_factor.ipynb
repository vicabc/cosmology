{
  "nbformat": 4,
  "nbformat_minor": 0,
  "metadata": {
    "colab": {
      "name": "scale_factor.ipynb",
      "provenance": [],
      "collapsed_sections": [],
      "authorship_tag": "ABX9TyML1OD21epw/dvfiE222hW/",
      "include_colab_link": true
    },
    "kernelspec": {
      "name": "python3",
      "display_name": "Python 3"
    },
    "language_info": {
      "name": "python"
    }
  },
  "cells": [
    {
      "cell_type": "markdown",
      "metadata": {
        "id": "view-in-github",
        "colab_type": "text"
      },
      "source": [
        "<a href=\"https://colab.research.google.com/github/vicabc/cosmology/blob/main/scale_factor.ipynb\" target=\"_parent\"><img src=\"https://colab.research.google.com/assets/colab-badge.svg\" alt=\"Open In Colab\"/></a>"
      ]
    },
    {
      "cell_type": "markdown",
      "source": [
        "**Derivação do fator de escala para um universo plano**\n",
        "---\n",
        "\n"
      ],
      "metadata": {
        "id": "kPuCeDLHXb56"
      }
    },
    {
      "cell_type": "markdown",
      "source": [
        "Atualmente sabemos que o universo está em expansão. Isso implica que as distâncias entre mesmos objetos aumentam. O fator de escala é uma função adimensional do tempo e mostra quanto está aumentando conforme o tempo passa. Imagine que a distância atual entre dois pontos seja L. Em um determinado momento no futuro, a distância entre esses dois pontos será de 1,5 $\\times$ L.\n",
        "\n",
        "Dito isso, é notória a necessidade de incluir esse fator aos cálculos cosmológicos. A exemplo, podemos citar a determinação da distância própria de galáxias.\n",
        "\n",
        "Podemos obter esse fator resolvendo a primeira equação de Friedmann escrita em termos de parâmetro de densidade $Ω_{r,0}= \\frac{\\rho}{\\rho_c}$ onde $\\rho_c$ seja a densidade crítica e está relacionada a um universo plano, ou curvatura $→$ K=0. Então temos:\n",
        "$\\frac{H^{2}}{H_0^{2}}= \\frac{Ω_{m,0}}{a^{3}}+\\frac{Ω_{r,0}}{a^{4}}+\\frac{\\Omega_{K,0}}{a^{2}}+Ω_{Λ,0}$. Sabendo que $\\Omega_{K,0} = \\frac{-K}{H_0^{2}}$ e também que $H^{2}= \\frac{\\dot a ^{2}}{a^{2}}$ então, substituido obtemos:\n",
        "$\\frac{\\dot a ^{2}}{a^{2}}=H_0^{2}[\\frac{Ω_{m,0}}{a^{3}}+\\frac{Ω_{r,0}}{a^{4}}+Ω_{Λ,0}]$. Isolando a derivada do fator de escala, vemos: $\\dot a^{2}= H_0^{2}[\\frac{Ω_{m,0}}{a}+\\frac{Ω_{r,0}}{a^{2}}+Ω_{Λ,0}a^{2}]$. Podemos obter o resultado da EDO integralizando. Sendo assim, temos: $\\dot a= H_0[\\frac{Ω_{m,0}}{a}+\\frac{Ω_{r,0}}{a^{2}}+Ω_{Λ,0}a^{2}]^{1/2}$, daí vemos que, $ \\int_{0}^{t} H_0 \\,dt = \\int_{0}^{a} \\frac{1}{{\\sqrt{\\frac{Ω_{m,0}}{a}+\\frac{Ω_{r,0}}{a^{2}}+Ω_{Λ,0}}}} \\,da $. Dito isso, iremos resolver essa integral com o auxílio dos métodos númericos a seguir."
      ],
      "metadata": {
        "id": "Lr7QTe3yZmiE"
      }
    },
    {
      "cell_type": "code",
      "execution_count": null,
      "metadata": {
        "colab": {
          "base_uri": "https://localhost:8080/"
        },
        "id": "MMtJX5ouWJ8O",
        "outputId": "c4052ec4-0995-4644-874b-d8c9904aa812"
      },
      "outputs": [
        {
          "output_type": "stream",
          "name": "stdout",
          "text": [
            "           9             8            7            6             5\n",
            "7.209e-12 x - 1.113e-09 x + 7.29e-08 x - 2.64e-06 x + 5.776e-05 x\n",
            "              4            3           2\n",
            " - 0.0007852 x + 0.006647 x - 0.03411 x + 0.1594 x + 0.02016\n"
          ]
        }
      ],
      "source": [
        "# ===== STEP 1 =====\n",
        "#from IPython.display import display, Math, Latex\n",
        "#display(Math(r'F(k) = \\int_{-\\infty}^{\\infty} f(x) e^{2\\pi i k} dx'))\n",
        "import numpy as np\n",
        "import scipy.integrate as integrate\n",
        "\n",
        "# Hubbble contant ((km/s) / Mpc)\n",
        "H0 = 67.66\n",
        "\n",
        "# Hubbble contant convert to (1 / Gyr)\n",
        "H0 = H0 * 0.00102271\n",
        "\n",
        "# Density parameter of radiation\n",
        "Or0 = 0.0014936944554559174\n",
        "\n",
        "# Density parameter of matter\n",
        "Om0 = 0.30966\n",
        "\n",
        "# Density parameter of dark energy\n",
        "Ode0 = 0.6888463055445441\n",
        "\n",
        "# ===== STEP 2 =====\n",
        "\n",
        "# scale factor as range of numbers from 0 to 3\n",
        "a = np.linspace(1e-10, 3, 5000)\n",
        "\n",
        "# ===== STEP 3 =====\n",
        "\n",
        "# Calculate the term in the integral\n",
        "expr = lambda a: 1 / np.sqrt(Or0/a**2 + Om0/a + Ode0*a**2)\n",
        "\n",
        "# Calculate t\n",
        "t = np.array([integrate.quad(expr, 0, i)[0]/H0 for i in a])\n",
        "\n",
        "# ===== STEP 4 =====\n",
        "\n",
        "# Polynomial coefficients\n",
        "coefs = np.polyfit(t, a, 9)\n",
        "\n",
        "# scale_factor as one-dimensional polynomial class\n",
        "scale_factor = np.poly1d(coefs)\n",
        "\n",
        "# print scale_factor polynomial\n",
        "print(scale_factor)\n",
        "\n",
        "# ===== STEP 5 =====\n",
        "\n",
        "# Define time range\n",
        "t = np.linspace(1e-10, 30)\n",
        "\n",
        "# Calculate scale factor\n",
        "a = scale_factor(t)"
      ]
    },
    {
      "cell_type": "code",
      "source": [
        ""
      ],
      "metadata": {
        "id": "7zPJgfJkWWHr"
      },
      "execution_count": null,
      "outputs": []
    }
  ]
}